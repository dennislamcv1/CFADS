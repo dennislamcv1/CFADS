{
 "cells": [
  {
   "cell_type": "markdown",
   "metadata": {},
   "source": [
    "1. This assignment is non-assessable.\n",
    "\n",
    "2. Please follow all instructions."
   ]
  },
  {
   "cell_type": "markdown",
   "metadata": {},
   "source": [
    "#### TASK 1\n",
    "In preparation for a report that you have been asked to write by your manager you decide to create a pie chart that you will visually demonstrate the average sector allocation of the 50 largest funds. This data is in an xlsx spreadsheet called 'Course 1 Final Assessment' and the sheet named 'SectorX'. The sectors are in a column headed 'Sector' and their relative frequency is the a column headed 'Big50'. Once you have produced the pie chart it needs to be saved so that it can be included in your report. Please 'save image as' by right clicking on the image."
   ]
  },
  {
   "cell_type": "code",
   "execution_count": null,
   "metadata": {},
   "outputs": [],
   "source": [
    "# Type your code for the pie chart below this comment. Use the \"Run\" button on the tool bar above to run it"
   ]
  },
  {
   "cell_type": "markdown",
   "metadata": {
    "solution2": "hidden",
    "solution2_first": true
   },
   "source": [
    "Click the button below to see the instructor's pie chart solution"
   ]
  },
  {
   "cell_type": "code",
   "execution_count": null,
   "metadata": {
    "deletable": false,
    "editable": false,
    "nbgrader": {
     "cell_type": "code",
     "checksum": "f666e3d578a52c548667ae5bff2bd084",
     "grade": false,
     "grade_id": "instructor-piechart",
     "locked": true,
     "schema_version": 3,
     "solution": false,
     "task": false
    },
    "solution2": "hidden"
   },
   "outputs": [],
   "source": [
    "import pandas as pd\n",
    "import matplotlib.pyplot as plt\n",
    "data=pd.read_excel('Course 1 Final Assessment.xlsx',sheet_name='SectorX')\n",
    "labels=data['Sector']\n",
    "sizes=data['Big50']\n",
    "plt.pie(sizes,labels=labels)\n",
    "plt.show()"
   ]
  },
  {
   "cell_type": "markdown",
   "metadata": {},
   "source": [
    "###### Please save the piechart as a image for your next task! (Right click to save on a PC or take a screenshot on a mobile device.)"
   ]
  },
  {
   "cell_type": "markdown",
   "metadata": {},
   "source": [
    "#### TASK 2\n",
    "Having created a pie chart showing the average sector allocation of the 50 largest funds you now decide to create a tree map showing the average sector allocation of the 50 smallest funds. The data is in the same location as the previous task but the relative frequencies are under a column headed 'Small50', rather than the column labelled 'Big50'. Recall that is is the squarify library that will be used to produce the tree map.Please save this image in the same way you did the pie chart as this will also be included in your report."
   ]
  },
  {
   "cell_type": "code",
   "execution_count": null,
   "metadata": {},
   "outputs": [],
   "source": [
    "# Type your code for the tree map below this comment. Use the \"Run\" button on the tool bar above to run it"
   ]
  },
  {
   "cell_type": "markdown",
   "metadata": {
    "solution2": "hidden",
    "solution2_first": true
   },
   "source": [
    "Click the button below to see the instructor's tree map solution"
   ]
  },
  {
   "cell_type": "code",
   "execution_count": null,
   "metadata": {
    "deletable": false,
    "editable": false,
    "nbgrader": {
     "cell_type": "code",
     "checksum": "53290549345b944e49c4e3a468a1113e",
     "grade": false,
     "grade_id": "instructor-treemap",
     "locked": true,
     "schema_version": 3,
     "solution": false,
     "task": false
    },
    "solution2": "hidden"
   },
   "outputs": [],
   "source": [
    "import pandas as pd\n",
    "import matplotlib.pyplot as plt\n",
    "import squarify\n",
    "data=pd.read_excel('Course 1 Final Assessment.xlsx',sheet_name='SectorX')\n",
    "labels=data['Sector']\n",
    "sizes=data['Small50']\n",
    "squarify.plot(sizes=sizes,labels=labels)\n",
    "plt.plot()"
   ]
  },
  {
   "cell_type": "markdown",
   "metadata": {},
   "source": [
    "###### Please save the tree map as a image for your next task! (Right click to save on a PC or take a screenshot on a mobile device.)"
   ]
  }
 ],
 "metadata": {
  "kernelspec": {
   "display_name": "Python 3",
   "language": "python",
   "name": "python3"
  },
  "language_info": {
   "codemirror_mode": {
    "name": "ipython",
    "version": 3
   },
   "file_extension": ".py",
   "mimetype": "text/x-python",
   "name": "python",
   "nbconvert_exporter": "python",
   "pygments_lexer": "ipython3",
   "version": "3.7.6"
  }
 },
 "nbformat": 4,
 "nbformat_minor": 5
}
