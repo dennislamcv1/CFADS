{
 "cells": [
  {
   "cell_type": "markdown",
   "id": "533d653b",
   "metadata": {},
   "source": [
    "1. This assignment is non-assessable.\n",
    "\n",
    "2. Please follow all instructions."
   ]
  },
  {
   "cell_type": "markdown",
   "id": "4233ddd9",
   "metadata": {},
   "source": [
    "#### TASK 1\n",
    "In preparation for a report that you have been asked to write by your manager you decide to create a pie chart that you will visually demonstrate the average sector allocation of the 50 largest funds. This data is in an xlsx spreadsheet called 'Course 1 Final Assessment' and the sheet named 'SectorX'. The sectors are in a column headed 'Sector' and their relative frequency is the a column headed 'Big50'. Once you have produced the pie chart it needs to be saved so that it can be included in your report. Please 'save image as' by right clicking on the image."
   ]
  },
  {
   "cell_type": "code",
   "execution_count": 1,
   "id": "749ecd5d",
   "metadata": {},
   "outputs": [],
   "source": [
    "# Type your code for the pie chart below this comment. Use the \"Run\" button on the tool bar above to run it"
   ]
  },
  {
   "cell_type": "markdown",
   "id": "143a03b6",
   "metadata": {
    "solution2": "hidden",
    "solution2_first": true
   },
   "source": [
    "Click the button below to see the instructor's pie chart solution"
   ]
  },
  {
   "cell_type": "code",
   "execution_count": 2,
   "id": "678b63b0",
   "metadata": {
    "deletable": false,
    "editable": false,
    "nbgrader": {
     "cell_type": "code",
     "checksum": "f666e3d578a52c548667ae5bff2bd084",
     "grade": false,
     "grade_id": "instructor-piechart",
     "locked": true,
     "schema_version": 3,
     "solution": false,
     "task": false
    },
    "solution2": "hidden"
   },
   "outputs": [
    {
     "data": {
      "image/png": "[encoded data removed]",
      "text/plain": [
       "<Figure size 432x288 with 1 Axes>"
      ]
     },
     "metadata": {},
     "output_type": "display_data"
    }
   ],
   "source": [
    "import pandas as pd\n",
    "import matplotlib.pyplot as plt\n",
    "data=pd.read_excel('Course 1 Final Assessment.xlsx',sheet_name='SectorX')\n",
    "labels=data['Sector']\n",
    "sizes=data['Big50']\n",
    "plt.pie(sizes,labels=labels)\n",
    "plt.show()"
   ]
  },
  {
   "cell_type": "markdown",
   "id": "1106ba16",
   "metadata": {},
   "source": [
    "###### Please save the piechart as a image for your next task! (Right click to save on a PC or take a screenshot on a mobile device.)"
   ]
  },
  {
   "cell_type": "markdown",
   "id": "18bcda4a",
   "metadata": {},
   "source": [
    "#### TASK 2\n",
    "Having created a pie chart showing the average sector allocation of the 50 largest funds you now decide to create a tree map showing the average sector allocation of the 50 smallest funds. The data is in the same location as the previous task but the relative frequencies are under a column headed 'Small50', rather than the column labelled 'Big50'. Recall that is is the squarify library that will be used to produce the tree map.Please save this image in the same way you did the pie chart as this will also be included in your report."
   ]
  },
  {
   "cell_type": "code",
   "execution_count": 3,
   "id": "0c8307f9",
   "metadata": {},
   "outputs": [],
   "source": [
    "# Type your code for the tree map below this comment. Use the \"Run\" button on the tool bar above to run it"
   ]
  },
  {
   "cell_type": "markdown",
   "id": "0fb5c28e",
   "metadata": {
    "solution2": "hidden",
    "solution2_first": true
   },
   "source": [
    "Click the button below to see the instructor's tree map solution"
   ]
  },
  {
   "cell_type": "code",
   "execution_count": 4,
   "id": "d5b029d3",
   "metadata": {
    "deletable": false,
    "editable": false,
    "nbgrader": {
     "cell_type": "code",
     "checksum": "53290549345b944e49c4e3a468a1113e",
     "grade": false,
     "grade_id": "instructor-treemap",
     "locked": true,
     "schema_version": 3,
     "solution": false,
     "task": false
    },
    "solution2": "hidden"
   },
   "outputs": [
    {
     "ename": "ModuleNotFoundError",
     "evalue": "No module named 'squarify'",
     "output_type": "error",
     "traceback": [
      "\u001b[1;31m---------------------------------------------------------------------------\u001b[0m",
      "\u001b[1;31mModuleNotFoundError\u001b[0m                       Traceback (most recent call last)",
      "\u001b[1;32m<ipython-input-4-a14d2738729d>\u001b[0m in \u001b[0;36m<module>\u001b[1;34m\u001b[0m\n\u001b[0;32m      1\u001b[0m \u001b[1;32mimport\u001b[0m \u001b[0mpandas\u001b[0m \u001b[1;32mas\u001b[0m \u001b[0mpd\u001b[0m\u001b[1;33m\u001b[0m\u001b[1;33m\u001b[0m\u001b[0m\n\u001b[0;32m      2\u001b[0m \u001b[1;32mimport\u001b[0m \u001b[0mmatplotlib\u001b[0m\u001b[1;33m.\u001b[0m\u001b[0mpyplot\u001b[0m \u001b[1;32mas\u001b[0m \u001b[0mplt\u001b[0m\u001b[1;33m\u001b[0m\u001b[1;33m\u001b[0m\u001b[0m\n\u001b[1;32m----> 3\u001b[1;33m \u001b[1;32mimport\u001b[0m \u001b[0msquarify\u001b[0m\u001b[1;33m\u001b[0m\u001b[1;33m\u001b[0m\u001b[0m\n\u001b[0m\u001b[0;32m      4\u001b[0m \u001b[0mdata\u001b[0m\u001b[1;33m=\u001b[0m\u001b[0mpd\u001b[0m\u001b[1;33m.\u001b[0m\u001b[0mread_excel\u001b[0m\u001b[1;33m(\u001b[0m\u001b[1;34m'Course 1 Final Assessment.xlsx'\u001b[0m\u001b[1;33m,\u001b[0m\u001b[0msheet_name\u001b[0m\u001b[1;33m=\u001b[0m\u001b[1;34m'SectorX'\u001b[0m\u001b[1;33m)\u001b[0m\u001b[1;33m\u001b[0m\u001b[1;33m\u001b[0m\u001b[0m\n\u001b[0;32m      5\u001b[0m \u001b[0mlabels\u001b[0m\u001b[1;33m=\u001b[0m\u001b[0mdata\u001b[0m\u001b[1;33m[\u001b[0m\u001b[1;34m'Sector'\u001b[0m\u001b[1;33m]\u001b[0m\u001b[1;33m\u001b[0m\u001b[1;33m\u001b[0m\u001b[0m\n",
      "\u001b[1;31mModuleNotFoundError\u001b[0m: No module named 'squarify'"
     ]
    }
   ],
   "source": [
    "import pandas as pd\n",
    "import matplotlib.pyplot as plt\n",
    "import squarify\n",
    "data=pd.read_excel('Course 1 Final Assessment.xlsx',sheet_name='SectorX')\n",
    "labels=data['Sector']\n",
    "sizes=data['Small50']\n",
    "squarify.plot(sizes=sizes,labels=labels)\n",
    "plt.plot()"
   ]
  },
  {
   "cell_type": "markdown",
   "id": "21564062",
   "metadata": {},
   "source": [
    "###### Please save the tree map as a image for your next task! (Right click to save on a PC or take a screenshot on a mobile device.)"
   ]
  }
 ],
 "metadata": {
  "kernelspec": {
   "display_name": "Python 3",
   "language": "python",
   "name": "python3"
  },
  "language_info": {
   "codemirror_mode": {
    "name": "ipython",
    "version": 3
   },
   "file_extension": ".py",
   "mimetype": "text/x-python",
   "name": "python",
   "nbconvert_exporter": "python",
   "pygments_lexer": "ipython3",
   "version": "3.8.8"
  }
 },
 "nbformat": 4,
 "nbformat_minor": 5
}
