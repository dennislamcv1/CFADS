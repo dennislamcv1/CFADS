{
 "cells": [
  {
   "cell_type": "markdown",
   "metadata": {},
   "source": [
    "1. The intention of this assignment is to practice the creation of pie charts and tree maps.\n",
    "\n",
    "2. This assignment is not gradeable - it is for practice only.\n",
    "\n",
    "3. Please follow the instructions."
   ]
  },
  {
   "cell_type": "markdown",
   "metadata": {},
   "source": [
    "#### TASK 1\n",
    "A portfolio's sector allocation is shown in an excel spreadsheet labelled 'Course 1 Module 4', sheet name 'Pie Chart'. The five different sectors are in a column headed 'Sector' and the relative frequecies are in a column headed 'Freq'. Using matplotlib.pyplot create a pie chart showing the portfolio's sector allocation. Please label the slices and indicate the percentages in the slices."
   ]
  },
  {
   "cell_type": "code",
   "execution_count": null,
   "metadata": {},
   "outputs": [],
   "source": [
    "# Type your code for TASK 1 below this comment. Use the \"Run\" button on the tool bar above to run it"
   ]
  },
  {
   "cell_type": "markdown",
   "metadata": {
    "solution2": "hidden",
    "solution2_first": true
   },
   "source": [
    "Click the button below to show the instructor's solution for TASK 1"
   ]
  },
  {
   "cell_type": "code",
   "execution_count": null,
   "metadata": {
    "deletable": false,
    "editable": false,
    "nbgrader": {
     "cell_type": "code",
     "checksum": "226e6e430d4a20afea9b5ed6ad65ff28",
     "grade": false,
     "grade_id": "instructor-pie-chart",
     "locked": true,
     "schema_version": 3,
     "solution": false,
     "task": false
    },
    "solution2": "hidden"
   },
   "outputs": [],
   "source": [
    "import pandas as pd\n",
    "import matplotlib.pyplot as plt\n",
    "data=pd.read_excel(\"Course 1 Module 4.xlsx\",sheet_name=\"Pie Chart\")\n",
    "labels=data['Sector']\n",
    "sizes=data['Freq']\n",
    "plt.pie(sizes, labels=labels, autopct='%1.1f%%')\n",
    "plt.show()"
   ]
  },
  {
   "cell_type": "markdown",
   "metadata": {},
   "source": [
    "#### TASK 2\n",
    "A portfolio's sector allocation is shown in an excel spreadsheet labelled 'Course 1 Module 4', sheet name 'Tree Map'. The five different sectors are in a column headed 'Sector' and the relative frequecies are in a column headed 'Freq'. Using matplotlib.pyplot create a tree map showing the portfolio's sector allocation. "
   ]
  },
  {
   "cell_type": "code",
   "execution_count": null,
   "metadata": {},
   "outputs": [],
   "source": [
    "# Type your code for TASK 2 below this comment. Use the \"Run\" button on the tool bar above to run it"
   ]
  },
  {
   "cell_type": "markdown",
   "metadata": {
    "solution2": "hidden",
    "solution2_first": true
   },
   "source": [
    "Click the button below to show the instructor's solution for TASK 2"
   ]
  },
  {
   "cell_type": "code",
   "execution_count": null,
   "metadata": {
    "deletable": false,
    "editable": false,
    "nbgrader": {
     "cell_type": "code",
     "checksum": "fe2cace7be73f199e5d98dfe7e62908d",
     "grade": false,
     "grade_id": "instructor-tree-map",
     "locked": true,
     "schema_version": 3,
     "solution": false,
     "task": false
    },
    "solution2": "hidden"
   },
   "outputs": [],
   "source": [
    "import pandas as pd\n",
    "import matplotlib.pyplot as plt\n",
    "import squarify\n",
    "data=pd.read_excel(\"Course 1 Module 4.xlsx\",sheet_name=\"Tree Map\")\n",
    "label=data['Sector']\n",
    "sizes=data['Freq']\n",
    "squarify.plot(sizes=sizes,label=label)\n",
    "plt.show()"
   ]
  }
 ],
 "metadata": {
  "kernelspec": {
   "display_name": "Python 3",
   "language": "python",
   "name": "python3"
  },
  "language_info": {
   "codemirror_mode": {
    "name": "ipython",
    "version": 3
   },
   "file_extension": ".py",
   "mimetype": "text/x-python",
   "name": "python",
   "nbconvert_exporter": "python",
   "pygments_lexer": "ipython3",
   "version": "3.7.6"
  }
 },
 "nbformat": 4,
 "nbformat_minor": 5
}
