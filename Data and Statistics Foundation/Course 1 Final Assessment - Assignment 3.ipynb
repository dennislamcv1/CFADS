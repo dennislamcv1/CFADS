{
 "cells": [
  {
   "cell_type": "markdown",
   "metadata": {},
   "source": [
    "1. You will not be graded for this assignment.\n",
    "\n",
    "2. Please follow all instructions to complete the task and save the histogram image for next assignment."
   ]
  },
  {
   "cell_type": "markdown",
   "metadata": {},
   "source": [
    "You now want do calculate the confidence interval for large funds based on the sample of 50 that you have used so far. As the DOSM, which is the basis of sampling theory, makes certain assumptions about the population distribution you decide that you first want to visualise what the sample distribution looks like. You therefore want to produce a histogram of the sample's returns. The relevant data is on the excel spreadsheet called 'Course 1 Final Assessment', sheet name 'Big50' and column headed \"Return\". You decide to use matplotlib.pyplot to creat a histogram and decide that ten bins should provide enough detail. Please write the suitable code in the cell below. "
   ]
  },
  {
   "cell_type": "code",
   "execution_count": null,
   "metadata": {},
   "outputs": [],
   "source": [
    "# Type your code for the histogram below this comment. Use the \"Run\" button on the tool bar above to run it"
   ]
  },
  {
   "cell_type": "markdown",
   "metadata": {
    "solution2": "hidden",
    "solution2_first": true
   },
   "source": [
    "Click the button below to see the instructor's solution and run it."
   ]
  },
  {
   "cell_type": "code",
   "execution_count": null,
   "metadata": {
    "deletable": false,
    "editable": false,
    "nbgrader": {
     "cell_type": "code",
     "checksum": "2e456cfd6c0c33d956c22a7914795caf",
     "grade": false,
     "grade_id": "instructors-solution-histogram",
     "locked": true,
     "schema_version": 3,
     "solution": false,
     "task": false
    },
    "solution2": "hidden"
   },
   "outputs": [],
   "source": [
    "import pandas as pd\n",
    "import matplotlib.pyplot as plt\n",
    "data=pd.read_excel('Course 1 Final Assessment.xlsx',sheet_name='Big50')\n",
    "plt.hist(data['Return'],)\n",
    "plt.show()"
   ]
  },
  {
   "cell_type": "markdown",
   "metadata": {},
   "source": [
    "#### Please save the histogram as a image for your next task! (Right click to save on a PC or take a screenshot on a mobile device.)"
   ]
  }
 ],
 "metadata": {
  "kernelspec": {
   "display_name": "Python 3",
   "language": "python",
   "name": "python3"
  },
  "language_info": {
   "codemirror_mode": {
    "name": "ipython",
    "version": 3
   },
   "file_extension": ".py",
   "mimetype": "text/x-python",
   "name": "python",
   "nbconvert_exporter": "python",
   "pygments_lexer": "ipython3",
   "version": "3.7.6"
  }
 },
 "nbformat": 4,
 "nbformat_minor": 5
}
