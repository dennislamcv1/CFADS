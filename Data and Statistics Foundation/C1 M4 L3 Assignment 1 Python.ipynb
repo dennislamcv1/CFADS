{
 "cells": [
  {
   "cell_type": "markdown",
   "metadata": {},
   "source": [
    "1. The intention of this assignment is to practice the creation of scatter plots.\n",
    "\n",
    "2. This assignment is not gradeable - it is for practice only.\n",
    "\n",
    "3. Please follow the instructions."
   ]
  },
  {
   "cell_type": "markdown",
   "metadata": {},
   "source": [
    "#### TASK 1\n",
    "As an analyst you are researching whether there is a correlation between a stocks P/E (price to earnings) multiple and the excess return the stock generates. You have collected the data for twenty stock and this is on an excel spreadsheet called 'Course 1 Module 4', and a sheet called 'Scatter Plot'. You decide to create a scatter plot of this date labelling the x axis 'P/E multiple' and the y axis 'Alpha\". The data for the x axis is in a column headed 'P/E' and the data for the y axis is in a column headed 'Alpha'. Create this scatterplot using matplotlib.pyplot."
   ]
  },
  {
   "cell_type": "code",
   "execution_count": null,
   "metadata": {},
   "outputs": [],
   "source": [
    "# Type your code for TASK 1 below this comment. Use the \"Run\" button on the tool bar above to run it"
   ]
  },
  {
   "cell_type": "markdown",
   "metadata": {
    "solution2": "hidden",
    "solution2_first": true
   },
   "source": [
    "Click the button below to show the instructor's solution for TASK 1"
   ]
  },
  {
   "cell_type": "code",
   "execution_count": null,
   "metadata": {
    "deletable": false,
    "editable": false,
    "nbgrader": {
     "cell_type": "code",
     "checksum": "27a7acaa34fceadd81c9ae72e1973e40",
     "grade": false,
     "grade_id": "instructor-task1",
     "locked": true,
     "schema_version": 3,
     "solution": false,
     "task": false
    },
    "solution2": "hidden"
   },
   "outputs": [],
   "source": [
    "import matplotlib.pyplot as plt\n",
    "import pandas as pd\n",
    "df_ret=pd.read_excel(\"Course 1 Module 4.xlsx\",sheet_name=\"Scatter Plot\")\n",
    "x=df_ret['P/E']\n",
    "y=df_ret['Alpha']\n",
    "plt.scatter(x,y)\n",
    "plt.xlabel('P/E multiple')\n",
    "plt.ylabel('Alpha')\n",
    "plt.show()"
   ]
  },
  {
   "cell_type": "markdown",
   "metadata": {},
   "source": [
    "#### TASK 2\n",
    "You have been provided with the following data:\n",
    "    \n",
    "|Time|Stock Price|Bond Yield|\n",
    "|:---:|---:|---:|\n",
    "|1|106|2.0|\n",
    "|2|108|2.1|\n",
    "|3|109|2.1|\n",
    "|4|113|2.3|\n",
    "|5|115|2.4|\n",
    "|6|120|2.6|\n",
    "|7|121|2.6|\n",
    "|8|123|2.7|\n",
    "|9|125|2.8|\n",
    "|10|126|3.0|\n",
    "\n",
    "Using matplotlib.pyplot create a scatter plot showing the relationship between Stock Price (x axis) and Bond Yield (y axis) for the ten periods."
   ]
  },
  {
   "cell_type": "code",
   "execution_count": null,
   "metadata": {},
   "outputs": [],
   "source": [
    "# Type your code for TASK 2 below this comment. Use the \"Run\" button on the tool bar above to run it"
   ]
  },
  {
   "cell_type": "markdown",
   "metadata": {
    "solution2": "hidden",
    "solution2_first": true
   },
   "source": [
    "Click the button below to show the instructor's solution for TASK 2"
   ]
  },
  {
   "cell_type": "code",
   "execution_count": null,
   "metadata": {
    "deletable": false,
    "editable": false,
    "nbgrader": {
     "cell_type": "code",
     "checksum": "61231a3a2455908d87d02cd21fca658d",
     "grade": false,
     "grade_id": "instructor-task2",
     "locked": true,
     "schema_version": 3,
     "solution": false,
     "task": false
    },
    "solution2": "hidden"
   },
   "outputs": [],
   "source": [
    "import matplotlib.pyplot as plt\n",
    "x=[106,108,109,113,115,120,121,123,125,126]\n",
    "y=[2.0,2.1,2.1,2.3,2.4,2.6,2.6,2.7,2.8,3.0]\n",
    "plt.scatter(x,y)\n",
    "plt.xlabel('Stock Price')\n",
    "plt.ylabel('Bond Yield')\n",
    "plt.show()"
   ]
  }
 ],
 "metadata": {
  "kernelspec": {
   "display_name": "Python 3",
   "language": "python",
   "name": "python3"
  },
  "language_info": {
   "codemirror_mode": {
    "name": "ipython",
    "version": 3
   },
   "file_extension": ".py",
   "mimetype": "text/x-python",
   "name": "python",
   "nbconvert_exporter": "python",
   "pygments_lexer": "ipython3",
   "version": "3.7.6"
  }
 },
 "nbformat": 4,
 "nbformat_minor": 5
}
