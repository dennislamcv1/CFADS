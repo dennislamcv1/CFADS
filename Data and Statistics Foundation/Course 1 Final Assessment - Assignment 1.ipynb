{
 "cells": [
  {
   "cell_type": "markdown",
   "metadata": {},
   "source": [
    "1. This assignment is non-assessable.\n",
    "2. Please follow all instructions."
   ]
  },
  {
   "cell_type": "markdown",
   "metadata": {},
   "source": [
    "As an analyst you have collected data on 215 funds which shows for each fund their AUM ($bn), most recent annualised return (%) and break down of stocks across eight market sectors - consumer, financial, industrials, healthcare, utilities, f&b, energy and technology.\n",
    "\n",
    "The first idea you have is to wonder whether large funds have a different risk/return profile to small funds. You decide to investigate this by calculating the coefficient of variation (C/V) for the biggest 50 funds (Big50) and for the smallest 50 funds (Small50). The first step in doing this is to calculate the return and the standard deviation for Big50 and Small50."
   ]
  },
  {
   "cell_type": "markdown",
   "metadata": {},
   "source": [
    "#### TASK 1\n",
    "Using the data in an excel spreadsheet called 'Course 1 Final Assessment', sheet name \"Big50 and column headed 'Return', calculate, using 'statistics', the mean and standard deviation of the 50 largest funds (Big50). Please round the answers to two decimal places using the instruction print(round(x,2),round(y,2)) where x and y are the two variables (mean and standard deviation) that you are printing."
   ]
  },
  {
   "cell_type": "code",
   "execution_count": null,
   "metadata": {},
   "outputs": [],
   "source": [
    "# Type your code for TASK 1 below this comment. Use the \"Run\" button on the tool bar above to run it"
   ]
  },
  {
   "cell_type": "markdown",
   "metadata": {
    "solution2": "hidden",
    "solution2_first": true
   },
   "source": [
    "Click the button below to show the instructor's solution for TASK 1"
   ]
  },
  {
   "cell_type": "code",
   "execution_count": null,
   "metadata": {
    "deletable": false,
    "editable": false,
    "nbgrader": {
     "cell_type": "code",
     "checksum": "b374f5a9e59ef2ff5ff62eeb0b095021",
     "grade": false,
     "grade_id": "instructor-solution-task1",
     "locked": true,
     "schema_version": 3,
     "solution": false,
     "task": false
    },
    "solution2": "hidden"
   },
   "outputs": [],
   "source": [
    "import statistics\n",
    "import pandas as pd\n",
    "data=pd.read_excel('Course 1 Final Assessment.xlsx',sheet_name='Big50')\n",
    "x=statistics.mean(data['Return'])\n",
    "y=statistics.stdev(data['Return'])\n",
    "print(round(x,2),round(y,2))"
   ]
  },
  {
   "cell_type": "markdown",
   "metadata": {},
   "source": [
    "#### TASK 2\n",
    "\n",
    "Using the data in the excel spreadsheet 'Course 1 Final Assessment', sheet name 'Small50', and column headed 'Return', calculate, using 'statistics', the mean and standard deviation of the 50 smallest funds (Small50). Please round the answers to two decimal places using the instruction print(round(x,2),round(y,2)) where x and y are the two variables (mean and standard deviation) that you are printing."
   ]
  },
  {
   "cell_type": "code",
   "execution_count": null,
   "metadata": {},
   "outputs": [],
   "source": [
    "# Type your code for TASK 2 below this comment. Use the \"Run\" button on the tool bar above to run it"
   ]
  },
  {
   "cell_type": "markdown",
   "metadata": {
    "solution2": "hidden",
    "solution2_first": true
   },
   "source": [
    "Click the button below to show the instructor's solution for TASK 2"
   ]
  },
  {
   "cell_type": "code",
   "execution_count": null,
   "metadata": {
    "deletable": false,
    "editable": false,
    "nbgrader": {
     "cell_type": "code",
     "checksum": "48b1de43f10d7bc17244256fcb49c851",
     "grade": false,
     "grade_id": "instructor-solution-task2",
     "locked": true,
     "schema_version": 3,
     "solution": false,
     "task": false
    },
    "solution2": "hidden"
   },
   "outputs": [],
   "source": [
    "import statistics\n",
    "import pandas as pd\n",
    "data=pd.read_excel('Course 1 Final Assessment.xlsx',sheet_name='Small50')\n",
    "x=statistics.mean(data['Return'])\n",
    "y=statistics.stdev(data['Return'])\n",
    "print(round(x,2),round(y,2))"
   ]
  }
 ],
 "metadata": {
  "kernelspec": {
   "display_name": "Python 3",
   "language": "python",
   "name": "python3"
  },
  "language_info": {
   "codemirror_mode": {
    "name": "ipython",
    "version": 3
   },
   "file_extension": ".py",
   "mimetype": "text/x-python",
   "name": "python",
   "nbconvert_exporter": "python",
   "pygments_lexer": "ipython3",
   "version": "3.7.6"
  }
 },
 "nbformat": 4,
 "nbformat_minor": 5
}
