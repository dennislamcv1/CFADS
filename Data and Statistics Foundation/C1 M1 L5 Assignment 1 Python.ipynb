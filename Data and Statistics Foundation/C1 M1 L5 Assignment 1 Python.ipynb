{
 "cells": [
  {
   "cell_type": "markdown",
   "metadata": {},
   "source": [
    "1. The intention of this assignment is to practice the calculation of different means using a small data set. \n",
    "2. This assignment is not gradeable - it is for practice only. \n",
    "3. Please follow the instructions. \n",
    "4. The data to use for task 1 and task 2 is shown below:\n",
    "\n",
    "\n",
    "|Stock   |   P/E |\n",
    "| :---: | ---: |\n",
    "|  1    |   22.29 |\n",
    "|  2    |   15.54 |\n",
    "|  3    |    9.38 |\n",
    "|  4    |   15.12 |\n",
    "|  5    |   10.72 |\n",
    "|  6    |   14.57 |\n",
    "|  7    |    7.20 |\n",
    "|  8    |    7.97 |\n",
    "|  9    |   10.34 |\n",
    "| 10    |    8.35 |"
   ]
  },
  {
   "cell_type": "markdown",
   "metadata": {},
   "source": [
    "#### TASK 1\n",
    "\n",
    "Using 'statistics' calculate the arithmetic mean P/E\n",
    "\n",
    "NOTE: Let's introduce rounding. To round the answer to (for example) 2 decimal places use the print function: print(round(X,2)) rather than simply: print(X)"
   ]
  },
  {
   "cell_type": "code",
   "execution_count": null,
   "metadata": {},
   "outputs": [],
   "source": [
    "# Type your code for TASK 1 below this comment. Use the \"Run\" button on the tool bar above to run it"
   ]
  },
  {
   "cell_type": "markdown",
   "metadata": {
    "solution2": "hidden",
    "solution2_first": true
   },
   "source": [
    "Click the button below to show the instructor's solution for TASK 1"
   ]
  },
  {
   "cell_type": "code",
   "execution_count": null,
   "metadata": {
    "deletable": false,
    "editable": false,
    "nbgrader": {
     "cell_type": "code",
     "checksum": "592fc688bfadd8969791b9d43d2fd267",
     "grade": false,
     "grade_id": "instructor-practice1",
     "locked": true,
     "schema_version": 3,
     "solution": false,
     "task": false
    },
    "solution2": "hidden"
   },
   "outputs": [],
   "source": [
    "import statistics\n",
    "data=[22.29,15.54,9.38,15.12,10.72,14.57,7.2,7.97,10.34,8.35]\n",
    "x=statistics.mean(data)\n",
    "print(round(x,2))"
   ]
  },
  {
   "cell_type": "markdown",
   "metadata": {},
   "source": [
    "#### TASK 2\n",
    "\n",
    "Using 'statistics' calculate the harmonic mean P/E. Please round to two decimal places as shown in Task 1."
   ]
  },
  {
   "cell_type": "code",
   "execution_count": null,
   "metadata": {},
   "outputs": [],
   "source": [
    "# Type your code for TASK 2 below this comment. Use the \"Run\" button on the tool bar above to run it"
   ]
  },
  {
   "cell_type": "markdown",
   "metadata": {
    "solution2": "hidden",
    "solution2_first": true
   },
   "source": [
    "Click the button below to show the instructor's solution for TASK 2"
   ]
  },
  {
   "cell_type": "code",
   "execution_count": null,
   "metadata": {
    "deletable": false,
    "editable": false,
    "nbgrader": {
     "cell_type": "code",
     "checksum": "1ae469229a19946bb041f525a65233a4",
     "grade": false,
     "grade_id": "instructor-practice3",
     "locked": true,
     "schema_version": 3,
     "solution": false,
     "task": false
    },
    "solution2": "hidden"
   },
   "outputs": [],
   "source": [
    "import statistics\n",
    "data=[22.29,15.54,9.38,15.12,10.72,14.57,7.2,7.97,10.34,8.35]\n",
    "x=statistics.harmonic_mean(data)\n",
    "print(round(x,2))"
   ]
  },
  {
   "cell_type": "markdown",
   "metadata": {},
   "source": [
    "#### TASK 3 \n",
    "\n",
    "Using 'numpy' calculate the weighted mean return using the data in the table shown below. Study the example in the lesson and adapt it to this data. \n",
    "\n",
    "The key line of code to calculate the weighted mean will be: weighted_avg_m3=round(average(distribution,weights=weight),2) but first distribution and weight will have to be defined e.g.distribution(return)=(X1,X2,X3), weight(weighting)=(X1,X2,X3).\n",
    "\n",
    "\n",
    "|weighting|return|\n",
    "|:---:|:---:|\n",
    "|25%|1.2%|\n",
    "|45%|6.7%|\n",
    "|30%|3.4%|"
   ]
  },
  {
   "cell_type": "code",
   "execution_count": null,
   "metadata": {},
   "outputs": [],
   "source": [
    "# Type your code for TASK 3 below this comment. Use the \"Run\" button on the tool bar above to run it"
   ]
  },
  {
   "cell_type": "markdown",
   "metadata": {
    "solution2": "hidden",
    "solution2_first": true
   },
   "source": [
    "Click the button below to show the instructor's solution for TASK 3"
   ]
  },
  {
   "cell_type": "code",
   "execution_count": null,
   "metadata": {
    "deletable": false,
    "editable": false,
    "nbgrader": {
     "cell_type": "code",
     "checksum": "7c314b7a0883fc6641ccbfc9b94da78c",
     "grade": false,
     "grade_id": "instructor-practice4",
     "locked": true,
     "schema_version": 3,
     "solution": false,
     "task": false
    },
    "solution2": "hidden"
   },
   "outputs": [],
   "source": [
    "from numpy import average\n",
    "distribution=(1.2,6.7,3.4)\n",
    "weight=(0.25,0.45,0.3)\n",
    "weighted_avg_m3=round(average(distribution,weights=weight),2)\n",
    "print(weighted_avg_m3)"
   ]
  }
 ],
 "metadata": {
  "kernelspec": {
   "display_name": "Python 3",
   "language": "python",
   "name": "python3"
  },
  "language_info": {
   "codemirror_mode": {
    "name": "ipython",
    "version": 3
   },
   "file_extension": ".py",
   "mimetype": "text/x-python",
   "name": "python",
   "nbconvert_exporter": "python",
   "pygments_lexer": "ipython3",
   "version": "3.7.6"
  }
 },
 "nbformat": 4,
 "nbformat_minor": 5
}
