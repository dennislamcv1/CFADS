{
 "cells": [
  {
   "cell_type": "markdown",
   "id": "76c6da3d",
   "metadata": {},
   "source": [
    "1. The intention of this assignment is to practice the calculation of the mean using a small data set.\n",
    "2. This assignment is not gradeable - it is for practice only.\n",
    "3. Please follow the instructions.\n",
    "4. The data to use in this assignment is shown below.\n",
    "\n",
    "| Index  | Year 1 | Year 2 | Year 3 |\n",
    "| :--- |  ---: |  ---: |  ---: |\n",
    "| Country A | 3.5 | 6.3 | 3.3 |\n",
    "| Country B |-1.2 | 1.4 | -0.9|\n",
    "| Country C | 2.1 | 4.2 | 2.4 |\n",
    "| Country D |-1.4 | 3.1 | 1.6 |\n",
    "| Country E | 2.6 |-1.5 | 2.2 |"
   ]
  },
  {
   "cell_type": "markdown",
   "id": "327a1109",
   "metadata": {},
   "source": [
    "#### TASK 1\n",
    "\n",
    "Using 'statistics' calculate the arithmetic mean of the five countries' returns for year 1"
   ]
  },
  {
   "cell_type": "code",
   "execution_count": 1,
   "id": "261531f5",
   "metadata": {},
   "outputs": [],
   "source": [
    "# Type your code for TASK 1 below this comment. Use the \"Run\" button on the tool bar above to run it"
   ]
  },
  {
   "cell_type": "markdown",
   "id": "c0da561e",
   "metadata": {
    "solution2": "hidden",
    "solution2_first": true
   },
   "source": [
    "Click the button below to see the instructor's solution for TASK 1"
   ]
  },
  {
   "cell_type": "code",
   "execution_count": 2,
   "id": "3ad07a12",
   "metadata": {
    "deletable": false,
    "editable": false,
    "nbgrader": {
     "cell_type": "code",
     "checksum": "4437c4d1ac4be36e92e3a0985c40e7e1",
     "grade": false,
     "grade_id": "instructor-statistics-arith-mean",
     "locked": true,
     "schema_version": 3,
     "solution": false,
     "task": false
    },
    "solution2": "hidden"
   },
   "outputs": [
    {
     "name": "stdout",
     "output_type": "stream",
     "text": [
      "1.12\n"
     ]
    }
   ],
   "source": [
    "import statistics\n",
    "data=[3.5,-1.2,2.1,-1.4,2.6]\n",
    "x=statistics.mean(data)\n",
    "print(x)"
   ]
  },
  {
   "cell_type": "markdown",
   "id": "c37e10e8",
   "metadata": {},
   "source": [
    "#### TASK 2\n",
    "\n",
    "Using 'numpy' calculate the arithmetic mean of the five countries' returns for year 2"
   ]
  },
  {
   "cell_type": "code",
   "execution_count": 3,
   "id": "0b6cf640",
   "metadata": {},
   "outputs": [],
   "source": [
    "# Type your code for TASK 2 below this comment. Use the \"Run\" button on the tool bar above to run it"
   ]
  },
  {
   "cell_type": "markdown",
   "id": "d587aaaf",
   "metadata": {
    "solution2": "hidden",
    "solution2_first": true
   },
   "source": [
    "Click the button below to see the instructor's solution for TASK 2"
   ]
  },
  {
   "cell_type": "code",
   "execution_count": 4,
   "id": "dcb1484f",
   "metadata": {
    "deletable": false,
    "editable": false,
    "nbgrader": {
     "cell_type": "code",
     "checksum": "56bd74d6a2f5fd0a8a0a7ffa48f48235",
     "grade": false,
     "grade_id": "instructor-numpy-arith-mean",
     "locked": true,
     "schema_version": 3,
     "solution": false,
     "task": false
    },
    "solution2": "hidden"
   },
   "outputs": [
    {
     "name": "stdout",
     "output_type": "stream",
     "text": [
      "2.6999999999999997\n"
     ]
    }
   ],
   "source": [
    "import numpy as np\n",
    "data=[6.3,1.4,4.2,3.1,-1.5]\n",
    "x=np.mean(data)\n",
    "print(x)"
   ]
  },
  {
   "cell_type": "markdown",
   "id": "6ea7ff5d",
   "metadata": {},
   "source": [
    "#### TASK 3\n",
    "\n",
    "Using 'statistics' calculate the arithmetic mean of the five countries' returns for all three years.Let data1=data for year 1, data2=data for year 2 and data3=data for year 3."
   ]
  },
  {
   "cell_type": "code",
   "execution_count": 5,
   "id": "eb0db7e8",
   "metadata": {},
   "outputs": [],
   "source": [
    "# Type your code for TASK 3 below this comment. Use the \"Run\" button on the tool bar above to run it"
   ]
  },
  {
   "cell_type": "markdown",
   "id": "b79389ba",
   "metadata": {
    "solution2": "hidden",
    "solution2_first": true
   },
   "source": [
    "Click the button below to see the instructor's solution for TASK 3"
   ]
  },
  {
   "cell_type": "code",
   "execution_count": 6,
   "id": "3c74c786",
   "metadata": {
    "deletable": false,
    "editable": false,
    "nbgrader": {
     "cell_type": "code",
     "checksum": "8999dc44049baa642de525ccbf8a7ef7",
     "grade": false,
     "grade_id": "instructor-mean-3years",
     "locked": true,
     "schema_version": 3,
     "solution": false,
     "task": false
    },
    "solution2": "hidden"
   },
   "outputs": [
    {
     "name": "stdout",
     "output_type": "stream",
     "text": [
      "1.12 2.7 1.72\n"
     ]
    }
   ],
   "source": [
    "import statistics\n",
    "data1=[3.5,-1.2,2.1,-1.4,2.6]\n",
    "data2=[6.3,1.4,4.2,3.1,-1.5]\n",
    "data3=[3.3,-0.9,2.4,1.6,2.2]\n",
    "x=statistics.mean(data1)\n",
    "y=statistics.mean(data2)\n",
    "z=statistics.mean(data3)\n",
    "print(x,y,z)"
   ]
  },
  {
   "cell_type": "code",
   "execution_count": null,
   "id": "ccd7b0a2",
   "metadata": {},
   "outputs": [],
   "source": []
  }
 ],
 "metadata": {
  "kernelspec": {
   "display_name": "Python 3",
   "language": "python",
   "name": "python3"
  },
  "language_info": {
   "codemirror_mode": {
    "name": "ipython",
    "version": 3
   },
   "file_extension": ".py",
   "mimetype": "text/x-python",
   "name": "python",
   "nbconvert_exporter": "python",
   "pygments_lexer": "ipython3",
   "version": "3.8.8"
  }
 },
 "nbformat": 4,
 "nbformat_minor": 5
}
