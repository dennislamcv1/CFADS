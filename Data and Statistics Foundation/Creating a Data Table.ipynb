{
 "cells": [
  {
   "cell_type": "code",
   "execution_count": 1,
   "id": "3f52892c",
   "metadata": {},
   "outputs": [],
   "source": [
    "import pandas as pd\n",
    "import random\n",
    "import numpy as np\n",
    "from numpy import random"
   ]
  },
  {
   "cell_type": "markdown",
   "id": "6f09c080",
   "metadata": {},
   "source": [
    "A junior analyst in your organization has been tasked with calculating, comparing, and presenting three key ratios for four specific companies in the green energy sector. Her desk is covered in financial statements, and she seems to be spending a lot of time going from one set to another.\n",
    "\n",
    "She knows that you understand data collection, management, and presentation and has come to you for help in organizing the raw data and presenting the ratios in a readily understandable way that makes it easy to compare them across the four companies.\n",
    "\n",
    "The following are the three ratios:\n",
    "\n",
    "    Liquidity Ratio = Current Assets/Current Liabilities\n",
    "\n",
    "    Profitability Ratio = Net Income/Revenue\n",
    "\n",
    "    Solvency Ratio = Total Debt/Total Assets"
   ]
  },
  {
   "cell_type": "code",
   "execution_count": 2,
   "id": "5126fdc0",
   "metadata": {},
   "outputs": [],
   "source": [
    "datacells = np.array(random.rand(4,3))"
   ]
  },
  {
   "cell_type": "code",
   "execution_count": 3,
   "id": "46f6f3dd",
   "metadata": {},
   "outputs": [
    {
     "data": {
      "text/plain": [
       "array([[0.72525919, 0.67707539, 0.33970342],\n",
       "       [0.21502572, 0.80546377, 0.25369318],\n",
       "       [0.56334368, 0.74630976, 0.34956299],\n",
       "       [0.72538534, 0.28512226, 0.23458163]])"
      ]
     },
     "execution_count": 3,
     "metadata": {},
     "output_type": "execute_result"
    }
   ],
   "source": [
    "datacells"
   ]
  },
  {
   "cell_type": "code",
   "execution_count": 4,
   "id": "f7316032",
   "metadata": {},
   "outputs": [
    {
     "data": {
      "text/html": [
       "<div>\n",
       "<style scoped>\n",
       "    .dataframe tbody tr th:only-of-type {\n",
       "        vertical-align: middle;\n",
       "    }\n",
       "\n",
       "    .dataframe tbody tr th {\n",
       "        vertical-align: top;\n",
       "    }\n",
       "\n",
       "    .dataframe thead th {\n",
       "        text-align: right;\n",
       "    }\n",
       "</style>\n",
       "<table border=\"1\" class=\"dataframe\">\n",
       "  <thead>\n",
       "    <tr style=\"text-align: right;\">\n",
       "      <th></th>\n",
       "      <th>Liquidity Ratio</th>\n",
       "      <th>Profitability Ratio</th>\n",
       "      <th>Solvency Ratio</th>\n",
       "    </tr>\n",
       "  </thead>\n",
       "  <tbody>\n",
       "    <tr>\n",
       "      <th>Comp A</th>\n",
       "      <td>0.725259</td>\n",
       "      <td>0.677075</td>\n",
       "      <td>0.339703</td>\n",
       "    </tr>\n",
       "    <tr>\n",
       "      <th>Comp B</th>\n",
       "      <td>0.215026</td>\n",
       "      <td>0.805464</td>\n",
       "      <td>0.253693</td>\n",
       "    </tr>\n",
       "    <tr>\n",
       "      <th>Comp C</th>\n",
       "      <td>0.563344</td>\n",
       "      <td>0.746310</td>\n",
       "      <td>0.349563</td>\n",
       "    </tr>\n",
       "    <tr>\n",
       "      <th>Comp D</th>\n",
       "      <td>0.725385</td>\n",
       "      <td>0.285122</td>\n",
       "      <td>0.234582</td>\n",
       "    </tr>\n",
       "  </tbody>\n",
       "</table>\n",
       "</div>"
      ],
      "text/plain": [
       "        Liquidity Ratio  Profitability Ratio  Solvency Ratio\n",
       "Comp A         0.725259             0.677075        0.339703\n",
       "Comp B         0.215026             0.805464        0.253693\n",
       "Comp C         0.563344             0.746310        0.349563\n",
       "Comp D         0.725385             0.285122        0.234582"
      ]
     },
     "execution_count": 4,
     "metadata": {},
     "output_type": "execute_result"
    }
   ],
   "source": [
    "pd.DataFrame(datacells, columns=['Liquidity Ratio','Profitability Ratio','Solvency Ratio'], \n",
    "             index=[\"Comp A\",\"Comp B\",\"Comp C\",\"Comp D\"])"
   ]
  },
  {
   "cell_type": "code",
   "execution_count": null,
   "id": "ac461965",
   "metadata": {},
   "outputs": [],
   "source": []
  },
  {
   "cell_type": "code",
   "execution_count": null,
   "id": "ad27b6ae",
   "metadata": {},
   "outputs": [],
   "source": []
  },
  {
   "cell_type": "code",
   "execution_count": null,
   "id": "82eef573",
   "metadata": {},
   "outputs": [],
   "source": []
  }
 ],
 "metadata": {
  "kernelspec": {
   "display_name": "Python 3",
   "language": "python",
   "name": "python3"
  },
  "language_info": {
   "codemirror_mode": {
    "name": "ipython",
    "version": 3
   },
   "file_extension": ".py",
   "mimetype": "text/x-python",
   "name": "python",
   "nbconvert_exporter": "python",
   "pygments_lexer": "ipython3",
   "version": "3.8.8"
  }
 },
 "nbformat": 4,
 "nbformat_minor": 5
}
