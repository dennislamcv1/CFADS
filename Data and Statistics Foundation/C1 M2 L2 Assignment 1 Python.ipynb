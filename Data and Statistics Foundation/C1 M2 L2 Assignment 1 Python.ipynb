{
 "cells": [
  {
   "cell_type": "markdown",
   "metadata": {},
   "source": [
    "1. The intention of this assignment is to practice the calculation of the variance and standard deviation using a small data set. \n",
    "2. This assignment is not gradeable - it is for practice only. \n",
    "3. Please follow the instructions. \n",
    "4. The data to use in this assignment is shown below\n",
    "\n",
    "| Index   |   Year 1 | Year 2  | Year 3 |\n",
    "| :---: | :---: | :---: | :---: |\n",
    "| Country A |  3.5  |   6.3   |   3.3 |\n",
    "| Country B | -1.2  |   1.4   |  -0.9 |\n",
    "| Country C | 2.1   |   4.2   |   2.4 |\n",
    "| Country D | -1.4  |   3.1   |   1.6 |\n",
    "| Country E |  2.6  |  -1.3   |   2.2 |\n",
    "| Country F |  1.8  |   3.5   |  -1.2 |\n",
    "| Country G |  2.4  |   2.2   |   1.8 |\n",
    "| Country H |  3.1  |   2.4   |   2.0 |"
   ]
  },
  {
   "cell_type": "markdown",
   "metadata": {},
   "source": [
    "#### TASK 1\n",
    "\n",
    "Using 'statistics' calculate the variance and standard deviation of the eight country indices for year 1. \n",
    "\n",
    "NOTE: Please round the answers to two decimal places by using the print command; print(round(x,2),round(y,2)) where x and y are the results to be printed. "
   ]
  },
  {
   "cell_type": "code",
   "execution_count": 1,
   "metadata": {},
   "outputs": [],
   "source": [
    "# Type your code for TASK 1 below this comment. Use the \"Run\" button on the tool bar above to run it"
   ]
  },
  {
   "cell_type": "markdown",
   "metadata": {
    "solution2": "hidden",
    "solution2_first": true
   },
   "source": [
    "Click the button below to show the instructor's solution for TASK 1"
   ]
  },
  {
   "cell_type": "code",
   "execution_count": 2,
   "metadata": {
    "deletable": false,
    "editable": false,
    "nbgrader": {
     "cell_type": "code",
     "checksum": "ccb2623b0f96bc6ea146c37afdab722d",
     "grade": false,
     "grade_id": "instructor-practice1",
     "locked": true,
     "schema_version": 3,
     "solution": false,
     "task": false
    },
    "solution2": "hidden"
   },
   "outputs": [
    {
     "name": "stdout",
     "output_type": "stream",
     "text": [
      "3.52 1.88\n"
     ]
    }
   ],
   "source": [
    "import statistics\n",
    "data=[3.5, -1.2, 2.1, -1.4, 2.6, 1.8, 2.4, 3.1]\n",
    "X=statistics.variance(data)\n",
    "Y=statistics.stdev(data)\n",
    "print(round(X,2),round(Y,2)) "
   ]
  },
  {
   "cell_type": "markdown",
   "metadata": {},
   "source": [
    "#### TASK 2\n",
    "\n",
    "Using 'statistics' calculate the variance and standard deviation of the eight country indices for years 2 and 3. \n",
    "\n",
    "Let data2=data for year 2 and data3=data for year 3. Please round all answers to two decimal points as shown in task 1."
   ]
  },
  {
   "cell_type": "code",
   "execution_count": 3,
   "metadata": {},
   "outputs": [],
   "source": [
    "# Type your code for TASK 2 below this comment. Use the \"Run\" button on the tool bar above to run it"
   ]
  },
  {
   "cell_type": "markdown",
   "metadata": {
    "solution2": "hidden",
    "solution2_first": true
   },
   "source": [
    "Click the button below to show the instructor's solution for TASK 2"
   ]
  },
  {
   "cell_type": "code",
   "execution_count": 4,
   "metadata": {
    "deletable": false,
    "editable": false,
    "nbgrader": {
     "cell_type": "code",
     "checksum": "76fe4645181a883d56b309c8746b5b60",
     "grade": false,
     "grade_id": "instructor-practice2",
     "locked": true,
     "schema_version": 3,
     "solution": false,
     "task": false
    },
    "solution2": "hidden"
   },
   "outputs": [
    {
     "name": "stdout",
     "output_type": "stream",
     "text": [
      "4.86 2.21 2.55 1.6\n"
     ]
    }
   ],
   "source": [
    "import statistics\n",
    "data2=[6.3,1.4,4.2,3.1,-1.3,3.5,2.2,2.4]\n",
    "data3=[3.3,-0.9,2.4,1.6,2.2,-1.2,1.8,2.0]\n",
    "y2variance=statistics.variance(data2)\n",
    "y2stdev=statistics.stdev(data2)\n",
    "y3variance=statistics.variance(data3)\n",
    "y3stdev=statistics.stdev(data3)\n",
    "print(round(y2variance,2),round(y2stdev,2),round(y3variance,2),round(y3stdev,2))"
   ]
  }
 ],
 "metadata": {
  "kernelspec": {
   "display_name": "Python 3",
   "language": "python",
   "name": "python3"
  },
  "language_info": {
   "codemirror_mode": {
    "name": "ipython",
    "version": 3
   },
   "file_extension": ".py",
   "mimetype": "text/x-python",
   "name": "python",
   "nbconvert_exporter": "python",
   "pygments_lexer": "ipython3",
   "version": "3.7.6"
  }
 },
 "nbformat": 4,
 "nbformat_minor": 5
}
