{
 "cells": [
  {
   "cell_type": "code",
   "execution_count": null,
   "metadata": {},
   "outputs": [],
   "source": [
    "###\n",
    "###\n",
    "### Sample R code for demonstrating visualization and regression\n",
    "### Date: 20/07/2021\n",
    "### Author: Shreenivas Kunte\n",
    "### Notes: Ensure that you install R on your local computer\n",
    "###\n",
    "###\n",
    "#\n",
    "#To understand the path\n",
    "#install.packages(\"readxl\") \n",
    "#Set the libraries\n",
    "library(\"readxl\")\n",
    "#Get current path\n",
    "getwd()\n",
    "\n",
    "#Read input data\n",
    "datain <- read_excel(\"Helper_Data.xlsx\", sheet = \"Dummies\")\n",
    "datain$DummyReforms <- ifelse(datain$Reforms == \"Pre-reforms\", 1, 0)\n",
    "\n",
    "\n",
    "# Fitting Linear Regression \n",
    "model <- lm(Volatility~DummyReforms, data = datain)\n",
    "print(model)"
   ]
  },
  {
   "cell_type": "code",
   "execution_count": null,
   "metadata": {},
   "outputs": [],
   "source": []
  }
 ],
 "metadata": {
  "kernelspec": {
   "display_name": "R",
   "language": "R",
   "name": "ir"
  },
  "language_info": {
   "codemirror_mode": "r",
   "file_extension": ".r",
   "mimetype": "text/x-r-source",
   "name": "R",
   "pygments_lexer": "r",
   "version": "3.6.3"
  }
 },
 "nbformat": 4,
 "nbformat_minor": 4
}
