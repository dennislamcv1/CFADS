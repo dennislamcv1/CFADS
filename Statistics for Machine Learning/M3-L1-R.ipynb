{
 "cells": [
  {
   "cell_type": "code",
   "execution_count": null,
   "metadata": {},
   "outputs": [],
   "source": [
    "###\n",
    "###\n",
    "### Sample R code for demonstrating visualization and regression\n",
    "### Date: 20/07/2021\n",
    "### Author: Shreenivas Kunte\n",
    "### Notes: Ensure that you install R on your local computer\n",
    "###\n",
    "###\n",
    "#\n",
    "#To understand the path\n",
    "getwd()\n",
    "#For reading an Microsoft Excel file (only if required)\n",
    "#install.packages(\"readxl\") \n",
    "library(\"readxl\")\n",
    "#read input\n",
    "datain <- read_excel(\"Helper_Data.xlsx\", sheet = \"Money_R\")\n",
    "\n",
    "#draw\n",
    "#plot(datain$Money Supply Growth (%),datin$Inflation (%),xlab='Money Supply %',ylab='Inflation %')\n",
    "plot(datain$MoneySupply,datain$Inflation,pch = 16, cex = 1.3, col = \"blue\",xlab='Money Supply %',ylab='Inflation %')\n",
    "#do the regression\n",
    "lm(formula= datain$Inflation ~ datain$MoneySupply)\n",
    "abline(lm(formula= datain$Inflation ~ datain$MoneySupply),col=\"red\")"
   ]
  }
 ],
 "metadata": {
  "kernelspec": {
   "display_name": "R",
   "language": "R",
   "name": "ir"
  },
  "language_info": {
   "codemirror_mode": "r",
   "file_extension": ".r",
   "mimetype": "text/x-r-source",
   "name": "R",
   "pygments_lexer": "r",
   "version": "3.6.3"
  }
 },
 "nbformat": 4,
 "nbformat_minor": 4
}
