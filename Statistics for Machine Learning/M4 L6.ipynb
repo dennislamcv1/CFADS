{
 "cells": [
  {
   "cell_type": "markdown",
   "metadata": {},
   "source": [
    "# Logistic Regression"
   ]
  },
  {
   "cell_type": "markdown",
   "metadata": {},
   "source": [
    "## Importing Libraries and the Input Data"
   ]
  },
  {
   "cell_type": "code",
   "execution_count": 1,
   "metadata": {},
   "outputs": [
    {
     "data": {
      "text/html": [
       "<div>\n",
       "<style scoped>\n",
       "    .dataframe tbody tr th:only-of-type {\n",
       "        vertical-align: middle;\n",
       "    }\n",
       "\n",
       "    .dataframe tbody tr th {\n",
       "        vertical-align: top;\n",
       "    }\n",
       "\n",
       "    .dataframe thead th {\n",
       "        text-align: right;\n",
       "    }\n",
       "</style>\n",
       "<table border=\"1\" class=\"dataframe\">\n",
       "  <thead>\n",
       "    <tr style=\"text-align: right;\">\n",
       "      <th></th>\n",
       "      <th>Credit_Profile</th>\n",
       "      <th>Annual_Income</th>\n",
       "      <th>Education_Years</th>\n",
       "      <th>Age</th>\n",
       "    </tr>\n",
       "  </thead>\n",
       "  <tbody>\n",
       "    <tr>\n",
       "      <th>0</th>\n",
       "      <td>1</td>\n",
       "      <td>60000.000000</td>\n",
       "      <td>17</td>\n",
       "      <td>28</td>\n",
       "    </tr>\n",
       "    <tr>\n",
       "      <th>1</th>\n",
       "      <td>1</td>\n",
       "      <td>70000.000000</td>\n",
       "      <td>20</td>\n",
       "      <td>24</td>\n",
       "    </tr>\n",
       "    <tr>\n",
       "      <th>2</th>\n",
       "      <td>1</td>\n",
       "      <td>80000.000000</td>\n",
       "      <td>18</td>\n",
       "      <td>25</td>\n",
       "    </tr>\n",
       "    <tr>\n",
       "      <th>3</th>\n",
       "      <td>1</td>\n",
       "      <td>50000.000000</td>\n",
       "      <td>17</td>\n",
       "      <td>22</td>\n",
       "    </tr>\n",
       "    <tr>\n",
       "      <th>4</th>\n",
       "      <td>1</td>\n",
       "      <td>75000.000000</td>\n",
       "      <td>17</td>\n",
       "      <td>22</td>\n",
       "    </tr>\n",
       "    <tr>\n",
       "      <th>...</th>\n",
       "      <td>...</td>\n",
       "      <td>...</td>\n",
       "      <td>...</td>\n",
       "      <td>...</td>\n",
       "    </tr>\n",
       "    <tr>\n",
       "      <th>66</th>\n",
       "      <td>0</td>\n",
       "      <td>64312.265115</td>\n",
       "      <td>9</td>\n",
       "      <td>26</td>\n",
       "    </tr>\n",
       "    <tr>\n",
       "      <th>67</th>\n",
       "      <td>0</td>\n",
       "      <td>64137.281279</td>\n",
       "      <td>8</td>\n",
       "      <td>29</td>\n",
       "    </tr>\n",
       "    <tr>\n",
       "      <th>68</th>\n",
       "      <td>0</td>\n",
       "      <td>64726.534621</td>\n",
       "      <td>8</td>\n",
       "      <td>26</td>\n",
       "    </tr>\n",
       "    <tr>\n",
       "      <th>69</th>\n",
       "      <td>0</td>\n",
       "      <td>64255.958301</td>\n",
       "      <td>8</td>\n",
       "      <td>29</td>\n",
       "    </tr>\n",
       "    <tr>\n",
       "      <th>70</th>\n",
       "      <td>0</td>\n",
       "      <td>64428.453222</td>\n",
       "      <td>10</td>\n",
       "      <td>27</td>\n",
       "    </tr>\n",
       "  </tbody>\n",
       "</table>\n",
       "<p>71 rows × 4 columns</p>\n",
       "</div>"
      ],
      "text/plain": [
       "    Credit_Profile  Annual_Income  Education_Years  Age\n",
       "0                1   60000.000000               17   28\n",
       "1                1   70000.000000               20   24\n",
       "2                1   80000.000000               18   25\n",
       "3                1   50000.000000               17   22\n",
       "4                1   75000.000000               17   22\n",
       "..             ...            ...              ...  ...\n",
       "66               0   64312.265115                9   26\n",
       "67               0   64137.281279                8   29\n",
       "68               0   64726.534621                8   26\n",
       "69               0   64255.958301                8   29\n",
       "70               0   64428.453222               10   27\n",
       "\n",
       "[71 rows x 4 columns]"
      ]
     },
     "execution_count": 1,
     "metadata": {},
     "output_type": "execute_result"
    }
   ],
   "source": [
    "import numpy as np\n",
    "import pandas as pd\n",
    "import matplotlib.pyplot as plt\n",
    "import statsmodels.api as sm\n",
    "                                                                                                \n",
    "dcredit = pd.read_excel('Helper_Data.xlsx',sheet_name ='Credit Profile')\n",
    "\n",
    "dcredit\n"
   ]
  },
  {
   "cell_type": "markdown",
   "metadata": {},
   "source": [
    "## Logistic Regression modelling "
   ]
  },
  {
   "cell_type": "code",
   "execution_count": 2,
   "metadata": {},
   "outputs": [
    {
     "name": "stdout",
     "output_type": "stream",
     "text": [
      "Optimization terminated successfully.\n",
      "         Current function value: 0.270577\n",
      "         Iterations 8\n",
      "                           Logit Regression Results                           \n",
      "==============================================================================\n",
      "Dep. Variable:         Credit_Profile   No. Observations:                   71\n",
      "Model:                          Logit   Df Residuals:                       68\n",
      "Method:                           MLE   Df Model:                            2\n",
      "Date:                Sat, 08 Jan 2022   Pseudo R-squ.:                  0.6096\n",
      "Time:                        11:13:05   Log-Likelihood:                -19.211\n",
      "converged:                       True   LL-Null:                       -49.206\n",
      "Covariance Type:            nonrobust   LLR p-value:                 9.401e-14\n",
      "===================================================================================\n",
      "                      coef    std err          z      P>|z|      [0.025      0.975]\n",
      "-----------------------------------------------------------------------------------\n",
      "Annual_Income    5.573e-05   2.13e-05      2.618      0.009     1.4e-05    9.74e-05\n",
      "Education_Years     0.3833      0.129      2.974      0.003       0.131       0.636\n",
      "Age                -0.2936      0.070     -4.219      0.000      -0.430      -0.157\n",
      "===================================================================================\n"
     ]
    }
   ],
   "source": [
    "# defining the dependent and independent variables\n",
    "Xtrain = dcredit[['Annual_Income', 'Education_Years', 'Age']]\n",
    "#Xtrain = dcredit[[ 'Education_Years', 'Age']]\n",
    "ytrain = dcredit[['Credit_Profile']]\n",
    "\n",
    "# building the model and fitting the data\n",
    "logreg = sm.Logit(ytrain, Xtrain).fit()\n",
    "print(logreg.summary())\n"
   ]
  },
  {
   "cell_type": "markdown",
   "metadata": {},
   "source": [
    "## Testing the model"
   ]
  },
  {
   "cell_type": "code",
   "execution_count": 3,
   "metadata": {},
   "outputs": [
    {
     "name": "stdout",
     "output_type": "stream",
     "text": [
      "0    0.760748\n",
      "1    0.147803\n",
      "2    0.961137\n",
      "3    0.719141\n",
      "4    0.916477\n",
      "dtype: float64\n",
      "Acutal values [1, 0, 1, 1, 0]\n",
      "Predictions : [1, 0, 1, 1, 1]\n"
     ]
    }
   ],
   "source": [
    "xdata = {'Annual_Income':[110000,42000,95000,90000,100000],\n",
    "        'Education_Years':[10,10,16,20,30],\n",
    "        'Age':[30,27,28,40,50]}\n",
    "ydata = {'Credit_Profile':[1,0,1,1,0 ]}\n",
    "\n",
    "xtest = pd.DataFrame(xdata)\n",
    "ytest = pd.DataFrame(ydata)\n",
    "\n",
    "# performing predictions on the test datdaset\n",
    "ypredict = logreg.predict(xtest)\n",
    "print (ypredict)\n",
    "predictions = list(map(round, ypredict))\n",
    "\n",
    "\n",
    "print('Acutal values', list(ytest.Credit_Profile))\n",
    "print('Predictions :', predictions)\n",
    "\n",
    "\n"
   ]
  },
  {
   "cell_type": "markdown",
   "metadata": {},
   "source": [
    "## Confusion matrix"
   ]
  },
  {
   "cell_type": "code",
   "execution_count": 4,
   "metadata": {},
   "outputs": [
    {
     "name": "stdout",
     "output_type": "stream",
     "text": [
      "Confusion Matrix : \n",
      " [[1 1]\n",
      " [0 3]]\n",
      "Test accuracy =  0.8\n"
     ]
    }
   ],
   "source": [
    "from sklearn.metrics import (confusion_matrix, accuracy_score)\n",
    "  \n",
    "# confusion matrix\n",
    "cm = confusion_matrix(ytest.Credit_Profile, predictions) \n",
    "print (\"Confusion Matrix : \\n\", cm) \n",
    "  \n",
    "# accuracy score of the model\n",
    "print('Test accuracy = ', accuracy_score(ytest.Credit_Profile, predictions))"
   ]
  },
  {
   "cell_type": "code",
   "execution_count": null,
   "metadata": {},
   "outputs": [],
   "source": []
  }
 ],
 "metadata": {
  "kernelspec": {
   "display_name": "Python 3",
   "language": "python",
   "name": "python3"
  },
  "language_info": {
   "codemirror_mode": {
    "name": "ipython",
    "version": 3
   },
   "file_extension": ".py",
   "mimetype": "text/x-python",
   "name": "python",
   "nbconvert_exporter": "python",
   "pygments_lexer": "ipython3",
   "version": "3.8.8"
  }
 },
 "nbformat": 4,
 "nbformat_minor": 4
}
