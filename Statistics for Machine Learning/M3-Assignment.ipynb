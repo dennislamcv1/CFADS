{
 "cells": [
  {
   "cell_type": "markdown",
   "metadata": {},
   "source": [
    "# Assignment Module 3: Linear Regression"
   ]
  },
  {
   "cell_type": "markdown",
   "metadata": {},
   "source": [
    "## Instructions\n",
    "We learnt how Python could be used for finding a solution to multiple regression problems.\n",
    "In this assignment we will be using an input file that contains Annual Income, Education Years and Age data for a cross section of people. The input file is in an excel format. \n",
    "Assuming that Education Years and Age (the independent variables) adequately define Annual Income (the dependent variable), please write a multiple linear regression and estimate the coefficients and the intercept term for this equation using LinearRegression from sklearn.linear_model:\n",
    "\n",
    "Annual_Income = constant + coeffficient_1 * Education_Years + coefficient_2 * Age\n"
   ]
  },
  {
   "cell_type": "code",
   "execution_count": 1,
   "metadata": {},
   "outputs": [],
   "source": [
    "# Load the Income_Data.xlsx file in a dataframe variable called dincome.\n",
    "# File name is: Income_Data.xlsx and sheet name is: Data\n",
    "# Sample statement for loading an excel file: dataframe_variable = pd.read_excel('filename',sheet_name ='sheetname')\n",
    "\n",
    "# For this exercise, read the excel into variable dincome, and print variable dincome.\n",
    "# After reading the excel file, dincome should have 71 rows and 3 columns: Annual_Income, Education_Years and Age\n",
    "\n",
    "# The first steps of importing the required libraries are done for you.\n",
    "\n",
    "# Import the required libraries\n",
    "import numpy as np\n",
    "import pandas as pd\n",
    "from sklearn.linear_model import LinearRegression\n",
    "\n",
    "# Type your code for reading Excel below this comment. Use the \"Run\" button on the tool bar above to run all the cell's code"
   ]
  },
  {
   "cell_type": "markdown",
   "metadata": {
    "solution2": "hidden",
    "solution2_first": true
   },
   "source": [
    "Click the button below to see the instructor's solution. Use the \"Run\" button in the toolbar to run it."
   ]
  },
  {
   "cell_type": "code",
   "execution_count": 2,
   "metadata": {
    "deletable": false,
    "editable": false,
    "nbgrader": {
     "cell_type": "code",
     "checksum": "cfdbd46accc513b2951826c952aef891",
     "grade": false,
     "grade_id": "instructor-read-excel",
     "locked": true,
     "schema_version": 3,
     "solution": false,
     "task": false
    },
    "solution2": "hidden"
   },
   "outputs": [
    {
     "data": {
      "text/html": [
       "<div>\n",
       "<style scoped>\n",
       "    .dataframe tbody tr th:only-of-type {\n",
       "        vertical-align: middle;\n",
       "    }\n",
       "\n",
       "    .dataframe tbody tr th {\n",
       "        vertical-align: top;\n",
       "    }\n",
       "\n",
       "    .dataframe thead th {\n",
       "        text-align: right;\n",
       "    }\n",
       "</style>\n",
       "<table border=\"1\" class=\"dataframe\">\n",
       "  <thead>\n",
       "    <tr style=\"text-align: right;\">\n",
       "      <th></th>\n",
       "      <th>Annual_Income</th>\n",
       "      <th>Education_Years</th>\n",
       "      <th>Age</th>\n",
       "    </tr>\n",
       "  </thead>\n",
       "  <tbody>\n",
       "    <tr>\n",
       "      <th>0</th>\n",
       "      <td>60000.000000</td>\n",
       "      <td>17</td>\n",
       "      <td>28</td>\n",
       "    </tr>\n",
       "    <tr>\n",
       "      <th>1</th>\n",
       "      <td>70000.000000</td>\n",
       "      <td>20</td>\n",
       "      <td>24</td>\n",
       "    </tr>\n",
       "    <tr>\n",
       "      <th>2</th>\n",
       "      <td>80000.000000</td>\n",
       "      <td>18</td>\n",
       "      <td>25</td>\n",
       "    </tr>\n",
       "    <tr>\n",
       "      <th>3</th>\n",
       "      <td>50000.000000</td>\n",
       "      <td>17</td>\n",
       "      <td>22</td>\n",
       "    </tr>\n",
       "    <tr>\n",
       "      <th>4</th>\n",
       "      <td>75000.000000</td>\n",
       "      <td>17</td>\n",
       "      <td>22</td>\n",
       "    </tr>\n",
       "    <tr>\n",
       "      <th>...</th>\n",
       "      <td>...</td>\n",
       "      <td>...</td>\n",
       "      <td>...</td>\n",
       "    </tr>\n",
       "    <tr>\n",
       "      <th>66</th>\n",
       "      <td>64312.265115</td>\n",
       "      <td>9</td>\n",
       "      <td>26</td>\n",
       "    </tr>\n",
       "    <tr>\n",
       "      <th>67</th>\n",
       "      <td>64137.281279</td>\n",
       "      <td>8</td>\n",
       "      <td>29</td>\n",
       "    </tr>\n",
       "    <tr>\n",
       "      <th>68</th>\n",
       "      <td>64726.534621</td>\n",
       "      <td>8</td>\n",
       "      <td>26</td>\n",
       "    </tr>\n",
       "    <tr>\n",
       "      <th>69</th>\n",
       "      <td>64255.958301</td>\n",
       "      <td>8</td>\n",
       "      <td>29</td>\n",
       "    </tr>\n",
       "    <tr>\n",
       "      <th>70</th>\n",
       "      <td>64428.453222</td>\n",
       "      <td>10</td>\n",
       "      <td>27</td>\n",
       "    </tr>\n",
       "  </tbody>\n",
       "</table>\n",
       "<p>71 rows × 3 columns</p>\n",
       "</div>"
      ],
      "text/plain": [
       "    Annual_Income  Education_Years  Age\n",
       "0    60000.000000               17   28\n",
       "1    70000.000000               20   24\n",
       "2    80000.000000               18   25\n",
       "3    50000.000000               17   22\n",
       "4    75000.000000               17   22\n",
       "..            ...              ...  ...\n",
       "66   64312.265115                9   26\n",
       "67   64137.281279                8   29\n",
       "68   64726.534621                8   26\n",
       "69   64255.958301                8   29\n",
       "70   64428.453222               10   27\n",
       "\n",
       "[71 rows x 3 columns]"
      ]
     },
     "execution_count": 2,
     "metadata": {},
     "output_type": "execute_result"
    }
   ],
   "source": [
    "# Read Excel and display the dataframe variable 'dincome'\n",
    "dincome = pd.read_excel('Income_Data.xlsx', sheet_name='Data')\n",
    "dincome"
   ]
  },
  {
   "cell_type": "code",
   "execution_count": 3,
   "metadata": {},
   "outputs": [],
   "source": [
    "# Building on the previous example of loading a dataframe, assign independent and dependent variables,\n",
    "# create a linear regressor, then fit the model.\n",
    "# Finally, print the coefficients and intercept.\n",
    "# Note that coefficient term is referred to by: coef_\n",
    "# Note that intercept term is referred to as intercept_\n",
    "\n",
    "# The first steps are done for you; your work is to write the code statements to fit the model and print the coefficients and intercept\n",
    "\n",
    "# Assign independent variables, Education_Years and Age columns to variable X\n",
    "X=dincome[['Education_Years', 'Age']]\n",
    "# Assign dependent variable, Annual_Income to Y\n",
    "Y=dincome[['Annual_Income']]\n",
    "# Call a regressor\n",
    "Regressor = LinearRegression()\n",
    "## You have called the Regressor, now fit the model (or train it) using the Regressor function\n",
    "## If in doubt, check illustrative code used in this lesson\n",
    "## Syntax is Regressor.fit(Independent_Variable,Dependent_Variable)\n",
    "\n",
    "# Type your code for fitting the model below this comment. Use the \"Run\" button on the tool bar above to run all the cell's code\n",
    "\n",
    "# Type your code for printing the coefficients below this comment.\n",
    "\n",
    "# Type your code for printing the intercept below this comment.\n"
   ]
  },
  {
   "cell_type": "markdown",
   "metadata": {
    "solution2": "hidden",
    "solution2_first": true
   },
   "source": [
    "Click the button below to see the instructor's solution. Use the \"Run\" button in the toolbar to run it."
   ]
  },
  {
   "cell_type": "code",
   "execution_count": 4,
   "metadata": {
    "deletable": false,
    "editable": false,
    "nbgrader": {
     "cell_type": "code",
     "checksum": "cda1df6403f87451f2c4086474fe1cf0",
     "grade": false,
     "grade_id": "instructor-fit-model",
     "locked": true,
     "schema_version": 3,
     "solution": false,
     "task": false
    },
    "solution2": "hidden"
   },
   "outputs": [
    {
     "name": "stdout",
     "output_type": "stream",
     "text": [
      "[[2704.61296819 1106.56959996]]\n",
      "[9915.31744185]\n"
     ]
    }
   ],
   "source": [
    "# Fit the model\n",
    "Regressor.fit(X,Y)   \n",
    "# Print Coefficients\n",
    "print(Regressor.coef_)\n",
    "# Print Intercept\n",
    "print(Regressor.intercept_)"
   ]
  },
  {
   "cell_type": "markdown",
   "metadata": {},
   "source": [
    "Click the button below to see the *complete* solution. Use the \"Run\" button in the toolbar to run it."
   ]
  },
  {
   "cell_type": "markdown",
   "metadata": {
    "solution2": "hidden",
    "solution2_first": true
   },
   "source": [
    " "
   ]
  },
  {
   "cell_type": "code",
   "execution_count": 5,
   "metadata": {
    "deletable": false,
    "editable": false,
    "nbgrader": {
     "cell_type": "code",
     "checksum": "e554e086eed3697d8fc9c6d35f7e07d9",
     "grade": false,
     "grade_id": "instructor-complete",
     "locked": true,
     "schema_version": 3,
     "solution": false,
     "task": false
    },
    "solution2": "hidden"
   },
   "outputs": [
    {
     "name": "stdout",
     "output_type": "stream",
     "text": [
      "[[2704.61296819 1106.56959996]]\n",
      "[9915.31744185]\n"
     ]
    }
   ],
   "source": [
    "# Import the required libraries\n",
    "import numpy as np\n",
    "import pandas as pd\n",
    "from sklearn.linear_model import LinearRegression\n",
    "\n",
    "# read Excel into a dataframe\n",
    "dincome = pd.read_excel('Income_Data.xlsx', sheet_name='Data')\n",
    "\n",
    "# Assign independent variables, Education_Years and Age columns to variable X\n",
    "X=dincome[['Education_Years', 'Age']]\n",
    "# Assign dependent variable, Annual_Income to Y\n",
    "Y=dincome[['Annual_Income']]\n",
    "\n",
    "# Call a regressor\n",
    "Regressor = LinearRegression()\n",
    "\n",
    "# Fit the model\n",
    "Regressor.fit(X,Y)   \n",
    "# Print Coefficients\n",
    "print(Regressor.coef_)\n",
    "# Print Intercept\n",
    "print(Regressor.intercept_)"
   ]
  }
 ],
 "metadata": {
  "kernelspec": {
   "display_name": "Python 3",
   "language": "python",
   "name": "python3"
  },
  "language_info": {
   "codemirror_mode": {
    "name": "ipython",
    "version": 3
   },
   "file_extension": ".py",
   "mimetype": "text/x-python",
   "name": "python",
   "nbconvert_exporter": "python",
   "pygments_lexer": "ipython3",
   "version": "3.8.8"
  }
 },
 "nbformat": 4,
 "nbformat_minor": 4
}
