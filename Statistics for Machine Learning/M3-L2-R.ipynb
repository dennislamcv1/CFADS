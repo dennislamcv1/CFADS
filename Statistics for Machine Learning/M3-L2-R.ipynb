{
 "cells": [
  {
   "cell_type": "code",
   "execution_count": null,
   "metadata": {},
   "outputs": [],
   "source": [
    "###\n",
    "###\n",
    "### Sample R code for demonstrating visualization and regression\n",
    "### Date: 20/07/2021\n",
    "### Author: Shreenivas Kunte\n",
    "### Notes: Ensure that you install R on your local computer\n",
    "###\n",
    "###\n",
    "#\n",
    "#To understand the path\n",
    "getwd()\n",
    "#For reading an Microsoft Excel file (only if required)\n",
    "#install.packages(\"readxl\") \n",
    "#Sample R program\n",
    "library(\"readxl\")\n",
    "\n",
    "datain <- read_excel(\"For ANOVA.xlsx\", sheet = \"ANOVA\")\n",
    "\n",
    "# Fitting Multiple Linear Regression to the Training set\n",
    "model <- lm(Index_Price~Interest_Rate+Unemployment_Rate, data = datain)\n",
    "print(model)"
   ]
  },
  {
   "cell_type": "code",
   "execution_count": null,
   "metadata": {},
   "outputs": [],
   "source": []
  }
 ],
 "metadata": {
  "kernelspec": {
   "display_name": "R",
   "language": "R",
   "name": "ir"
  },
  "language_info": {
   "codemirror_mode": "r",
   "file_extension": ".r",
   "mimetype": "text/x-r-source",
   "name": "R",
   "pygments_lexer": "r",
   "version": "3.6.3"
  }
 },
 "nbformat": 4,
 "nbformat_minor": 4
}
