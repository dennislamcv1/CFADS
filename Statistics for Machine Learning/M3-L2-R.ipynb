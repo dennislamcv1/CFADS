{
 "cells": [
  {
   "cell_type": "code",
   "execution_count": 1,
   "metadata": {},
   "outputs": [
    {
     "data": {
      "text/html": [
       "'C:/Users/Dennis/OneDrive/Documents/Data Science for Investment Professionals/Statistics for Machine Learning'"
      ],
      "text/latex": [
       "'C:/Users/Dennis/OneDrive/Documents/Data Science for Investment Professionals/Statistics for Machine Learning'"
      ],
      "text/markdown": [
       "'C:/Users/Dennis/OneDrive/Documents/Data Science for Investment Professionals/Statistics for Machine Learning'"
      ],
      "text/plain": [
       "[1] \"C:/Users/Dennis/OneDrive/Documents/Data Science for Investment Professionals/Statistics for Machine Learning\""
      ]
     },
     "metadata": {},
     "output_type": "display_data"
    },
    {
     "name": "stdout",
     "output_type": "stream",
     "text": [
      "\n",
      "Call:\n",
      "lm(formula = Index_Price ~ Interest_Rate + Unemployment_Rate, \n",
      "    data = datain)\n",
      "\n",
      "Coefficients:\n",
      "      (Intercept)      Interest_Rate  Unemployment_Rate  \n",
      "           4985.4             -375.4             -451.7  \n",
      "\n"
     ]
    }
   ],
   "source": [
    "###\n",
    "###\n",
    "### Sample R code for demonstrating visualization and regression\n",
    "### Date: 20/07/2021\n",
    "### Author: Shreenivas Kunte\n",
    "### Notes: Ensure that you install R on your local computer\n",
    "###\n",
    "###\n",
    "#\n",
    "#To understand the path\n",
    "getwd()\n",
    "#For reading an Microsoft Excel file (only if required)\n",
    "#install.packages(\"readxl\") \n",
    "#Sample R program\n",
    "library(\"readxl\")\n",
    "\n",
    "datain <- read_excel(\"For ANOVA.xlsx\", sheet = \"ANOVA\")\n",
    "\n",
    "# Fitting Multiple Linear Regression to the Training set\n",
    "model <- lm(Index_Price~Interest_Rate+Unemployment_Rate, data = datain)\n",
    "print(model)"
   ]
  },
  {
   "cell_type": "code",
   "execution_count": null,
   "metadata": {},
   "outputs": [],
   "source": []
  }
 ],
 "metadata": {
  "kernelspec": {
   "display_name": "R",
   "language": "R",
   "name": "ir"
  },
  "language_info": {
   "codemirror_mode": "r",
   "file_extension": ".r",
   "mimetype": "text/x-r-source",
   "name": "R",
   "pygments_lexer": "r",
   "version": "3.6.3"
  }
 },
 "nbformat": 4,
 "nbformat_minor": 4
}
