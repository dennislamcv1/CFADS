{
 "cells": [
  {
   "cell_type": "markdown",
   "metadata": {},
   "source": [
    "# Using Multiple Linear Regression"
   ]
  },
  {
   "cell_type": "markdown",
   "metadata": {},
   "source": [
    "## Importing Libraries, loading the input file"
   ]
  },
  {
   "cell_type": "code",
   "execution_count": null,
   "metadata": {},
   "outputs": [],
   "source": [
    "## Import the libraries first\n",
    "import numpy as np\n",
    "import pandas as pd\n",
    "import matplotlib.pyplot as plt\n",
    "import statsmodels.api as sm\n",
    "from sklearn.linear_model import LinearRegression\n",
    "## For Multiple Linear Regression and ANOVA\n",
    "  \n",
    "df = pd.read_excel('For ANOVA.xlsx')\n",
    "\n",
    "#Check columns\n",
    "df"
   ]
  },
  {
   "cell_type": "markdown",
   "metadata": {},
   "source": [
    "## Method 1 - using statmodels (OLS)"
   ]
  },
  {
   "cell_type": "code",
   "execution_count": null,
   "metadata": {},
   "outputs": [],
   "source": [
    "#Method 1\n",
    "X=df[['Interest_Rate', 'Unemployment_Rate']]\n",
    "Y=df.Index_Price\n",
    "X = sm.add_constant(X)\n",
    "olsresult = sm.OLS(Y, X).fit()\n",
    "olsresult.summary()\n"
   ]
  },
  {
   "cell_type": "markdown",
   "metadata": {},
   "source": [
    "## Method 2 - using sklearn Linearregression"
   ]
  },
  {
   "cell_type": "code",
   "execution_count": null,
   "metadata": {},
   "outputs": [],
   "source": [
    "# Method 2\n",
    "# Using sklearn Linearregression \n",
    "# Prepare the data for Visualization\n",
    "from sklearn.linear_model import LinearRegression\n",
    "\n",
    "X=df[['Interest_Rate', 'Unemployment_Rate']]\n",
    "Y=df[['Index_Price']]\n",
    "Regressor = LinearRegression()\n",
    "Regressor.fit(X,Y)\n",
    "\n",
    "print(\"Coefficients: \"+ str(Regressor.coef_))\n",
    "print(\"Intercept: \"+ str(Regressor.intercept_))"
   ]
  },
  {
   "cell_type": "markdown",
   "metadata": {},
   "source": [
    "## Visualization: 3 Dimensions"
   ]
  },
  {
   "cell_type": "code",
   "execution_count": null,
   "metadata": {},
   "outputs": [],
   "source": [
    "#Visualization\n",
    "x_surf, y_surf = np.meshgrid(np.linspace(X.Interest_Rate.min(), X.Interest_Rate.max(), 100),np.linspace(X.Unemployment_Rate.min(), X.Unemployment_Rate.max(), 100))\n",
    "Xvalues = pd.DataFrame({'Interest_Rate': x_surf.ravel(), 'Unemployment_Rate': y_surf.ravel()})\n",
    "\n",
    "fittedY=Regressor.predict(Xvalues)\n",
    "fittedY=np.array(fittedY)\n",
    "\n",
    "fig = plt.figure(figsize=(20,10))\n",
    "### Set figure size\n",
    "ax = fig.add_subplot(111, projection='3d')\n",
    "ax.scatter(X['Interest_Rate'],X['Unemployment_Rate'],Y['Index_Price'],c='red', marker='o', alpha=0.5)\n",
    "ax.plot_surface(x_surf,y_surf,fittedY.reshape(x_surf.shape), color='g', alpha=0.3)\n",
    "ax.set_xlabel('Interest Rate')\n",
    "ax.set_ylabel('Unemployment Rate')\n",
    "ax.set_zlabel('Index Level')\n",
    "plt.show()\n",
    "\n"
   ]
  },
  {
   "cell_type": "code",
   "execution_count": null,
   "metadata": {},
   "outputs": [],
   "source": []
  }
 ],
 "metadata": {
  "kernelspec": {
   "display_name": "Python 3",
   "language": "python",
   "name": "python3"
  },
  "language_info": {
   "codemirror_mode": {
    "name": "ipython",
    "version": 3
   },
   "file_extension": ".py",
   "mimetype": "text/x-python",
   "name": "python",
   "nbconvert_exporter": "python",
   "pygments_lexer": "ipython3",
   "version": "3.7.6"
  }
 },
 "nbformat": 4,
 "nbformat_minor": 4
}
