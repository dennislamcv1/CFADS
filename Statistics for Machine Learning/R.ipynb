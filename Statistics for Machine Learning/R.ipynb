{
 "cells": [
  {
   "cell_type": "code",
   "execution_count": 1,
   "metadata": {},
   "outputs": [
    {
     "data": {
      "text/html": [
       "'C:/Users/Dennis/OneDrive/Documents/Data Science for Investment Professionals/Statistics for Machine Learning'"
      ],
      "text/latex": [
       "'C:/Users/Dennis/OneDrive/Documents/Data Science for Investment Professionals/Statistics for Machine Learning'"
      ],
      "text/markdown": [
       "'C:/Users/Dennis/OneDrive/Documents/Data Science for Investment Professionals/Statistics for Machine Learning'"
      ],
      "text/plain": [
       "[1] \"C:/Users/Dennis/OneDrive/Documents/Data Science for Investment Professionals/Statistics for Machine Learning\""
      ]
     },
     "metadata": {},
     "output_type": "display_data"
    },
    {
     "data": {
      "text/plain": [
       "\n",
       "Call:\n",
       "lm(formula = datain$Inflation ~ datain$MoneySupply)\n",
       "\n",
       "Coefficients:\n",
       "       (Intercept)  datain$MoneySupply  \n",
       "           -0.1071              0.3290  \n"
      ]
     },
     "metadata": {},
     "output_type": "display_data"
    },
    {
     "data": {
      "image/png": "[encoded data removed]",
      "text/plain": [
       "plot without title"
      ]
     },
     "metadata": {
      "image/png": {
       "height": 420,
       "width": 420
      }
     },
     "output_type": "display_data"
    }
   ],
   "source": [
    "###\n",
    "###\n",
    "### Sample R code for demonstrating visualization and regression\n",
    "### Date: 20/07/2021\n",
    "### Author: Shreenivas Kunte\n",
    "### Notes: Ensure that you install R on your local computer\n",
    "###\n",
    "###\n",
    "#\n",
    "#To understand the path\n",
    "getwd()\n",
    "#For reading an Microsoft Excel file (only if required)\n",
    "#install.packages(\"readxl\") \n",
    "library(\"readxl\")\n",
    "\n",
    "datain <- read_excel(\"Helper_Data.xlsx\", sheet = \"Money_R\")\n",
    "\n",
    "plot(datain$MoneySupply,datain$Inflation,pch = 16, cex = 1.3, col = \"blue\",xlab='Money Supply %',ylab='Inflation %')\n",
    "lm(formula= datain$Inflation ~ datain$MoneySupply)\n",
    "abline(lm(formula= datain$Inflation ~ datain$MoneySupply),col=\"red\")"
   ]
  },
  {
   "cell_type": "code",
   "execution_count": null,
   "metadata": {},
   "outputs": [],
   "source": []
  }
 ],
 "metadata": {
  "kernelspec": {
   "display_name": "R",
   "language": "R",
   "name": "ir"
  },
  "language_info": {
   "codemirror_mode": "r",
   "file_extension": ".r",
   "mimetype": "text/x-r-source",
   "name": "R",
   "pygments_lexer": "r",
   "version": "3.6.3"
  }
 },
 "nbformat": 4,
 "nbformat_minor": 4
}
