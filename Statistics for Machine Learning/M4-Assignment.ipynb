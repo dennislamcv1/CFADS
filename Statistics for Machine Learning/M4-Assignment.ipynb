{
 "cells": [
  {
   "cell_type": "markdown",
   "metadata": {},
   "source": [
    "# Assignment Module 4: Logistic Regression"
   ]
  },
  {
   "cell_type": "markdown",
   "metadata": {},
   "source": [
    "## Instructions\n",
    "We learnt how Python could be used for finding a solution to logistic regression problems.\n",
    "In this assignment we will be using the exact same input file we used in the lesson.\n",
    "To recap, this input file contains, Credit_Profile, Annual Income, Education Years and Age data for a cross section of people. The input file is in an excel format. \n",
    "Assuming that Annual Income, Education Years and Age (the independent variables) adequately define if a Credit Profile (the independent variable) is loan worthy (1) or not (0), this program estimate the coefficients and the intercept term for this equation using the logit model from the statsmodels.api library. \n",
    "This part was illustrated in the lesson. \n",
    "In this assignment, the program code flow is exactly the same till the training/ modelling stage. No inputs are required from learners till the training/ modelling stage.\n",
    "In the testing stage however, learners would need to add 2 lines of code to predict probabilities of credit profiles given input values for the indepdendent variable.\n",
    "\n",
    "Just to recap the starting point in the logistic regression equation is:\n",
    "\n",
    "log (probability of odds for Credit_Profile) = constant + coeffficient_1 * Annual_Income + coefficient_2 * Education_Years + coefficient_3 * Age"
   ]
  },
  {
   "cell_type": "markdown",
   "metadata": {},
   "source": [
    "NOTE: You must run each code cell below, in order from top to bottom, to prepare for the coding exercise. These create variables when are then available to any code cell."
   ]
  },
  {
   "cell_type": "code",
   "execution_count": 1,
   "metadata": {},
   "outputs": [
    {
     "data": {
      "text/html": [
       "<div>\n",
       "<style scoped>\n",
       "    .dataframe tbody tr th:only-of-type {\n",
       "        vertical-align: middle;\n",
       "    }\n",
       "\n",
       "    .dataframe tbody tr th {\n",
       "        vertical-align: top;\n",
       "    }\n",
       "\n",
       "    .dataframe thead th {\n",
       "        text-align: right;\n",
       "    }\n",
       "</style>\n",
       "<table border=\"1\" class=\"dataframe\">\n",
       "  <thead>\n",
       "    <tr style=\"text-align: right;\">\n",
       "      <th></th>\n",
       "      <th>Credit_Profile</th>\n",
       "      <th>Annual_Income</th>\n",
       "      <th>Education_Years</th>\n",
       "      <th>Age</th>\n",
       "    </tr>\n",
       "  </thead>\n",
       "  <tbody>\n",
       "    <tr>\n",
       "      <th>0</th>\n",
       "      <td>1</td>\n",
       "      <td>60000.000000</td>\n",
       "      <td>17</td>\n",
       "      <td>28</td>\n",
       "    </tr>\n",
       "    <tr>\n",
       "      <th>1</th>\n",
       "      <td>1</td>\n",
       "      <td>70000.000000</td>\n",
       "      <td>20</td>\n",
       "      <td>24</td>\n",
       "    </tr>\n",
       "    <tr>\n",
       "      <th>2</th>\n",
       "      <td>1</td>\n",
       "      <td>80000.000000</td>\n",
       "      <td>18</td>\n",
       "      <td>25</td>\n",
       "    </tr>\n",
       "    <tr>\n",
       "      <th>3</th>\n",
       "      <td>1</td>\n",
       "      <td>50000.000000</td>\n",
       "      <td>17</td>\n",
       "      <td>22</td>\n",
       "    </tr>\n",
       "    <tr>\n",
       "      <th>4</th>\n",
       "      <td>1</td>\n",
       "      <td>75000.000000</td>\n",
       "      <td>17</td>\n",
       "      <td>22</td>\n",
       "    </tr>\n",
       "    <tr>\n",
       "      <th>...</th>\n",
       "      <td>...</td>\n",
       "      <td>...</td>\n",
       "      <td>...</td>\n",
       "      <td>...</td>\n",
       "    </tr>\n",
       "    <tr>\n",
       "      <th>66</th>\n",
       "      <td>0</td>\n",
       "      <td>64312.265115</td>\n",
       "      <td>9</td>\n",
       "      <td>26</td>\n",
       "    </tr>\n",
       "    <tr>\n",
       "      <th>67</th>\n",
       "      <td>0</td>\n",
       "      <td>64137.281279</td>\n",
       "      <td>8</td>\n",
       "      <td>29</td>\n",
       "    </tr>\n",
       "    <tr>\n",
       "      <th>68</th>\n",
       "      <td>0</td>\n",
       "      <td>64726.534621</td>\n",
       "      <td>8</td>\n",
       "      <td>26</td>\n",
       "    </tr>\n",
       "    <tr>\n",
       "      <th>69</th>\n",
       "      <td>0</td>\n",
       "      <td>64255.958301</td>\n",
       "      <td>8</td>\n",
       "      <td>29</td>\n",
       "    </tr>\n",
       "    <tr>\n",
       "      <th>70</th>\n",
       "      <td>0</td>\n",
       "      <td>64428.453222</td>\n",
       "      <td>10</td>\n",
       "      <td>27</td>\n",
       "    </tr>\n",
       "  </tbody>\n",
       "</table>\n",
       "<p>71 rows × 4 columns</p>\n",
       "</div>"
      ],
      "text/plain": [
       "    Credit_Profile  Annual_Income  Education_Years  Age\n",
       "0                1   60000.000000               17   28\n",
       "1                1   70000.000000               20   24\n",
       "2                1   80000.000000               18   25\n",
       "3                1   50000.000000               17   22\n",
       "4                1   75000.000000               17   22\n",
       "..             ...            ...              ...  ...\n",
       "66               0   64312.265115                9   26\n",
       "67               0   64137.281279                8   29\n",
       "68               0   64726.534621                8   26\n",
       "69               0   64255.958301                8   29\n",
       "70               0   64428.453222               10   27\n",
       "\n",
       "[71 rows x 4 columns]"
      ]
     },
     "execution_count": 1,
     "metadata": {},
     "output_type": "execute_result"
    }
   ],
   "source": [
    "#import the required libraries\n",
    "\n",
    "import numpy as np\n",
    "import pandas as pd\n",
    "import matplotlib.pyplot as plt\n",
    "import statsmodels.api as sm\n",
    "\n",
    "#Read the input files \n",
    "    \n",
    "dcredit = pd.read_excel('Helper_Data.xlsx',sheet_name ='Credit Profile')\n",
    "dcredit\n"
   ]
  },
  {
   "cell_type": "markdown",
   "metadata": {},
   "source": [
    "## Logistic Regression modelling "
   ]
  },
  {
   "cell_type": "code",
   "execution_count": 2,
   "metadata": {},
   "outputs": [
    {
     "name": "stdout",
     "output_type": "stream",
     "text": [
      "Optimization terminated successfully.\n",
      "         Current function value: 0.270577\n",
      "         Iterations 8\n",
      "                           Logit Regression Results                           \n",
      "==============================================================================\n",
      "Dep. Variable:         Credit_Profile   No. Observations:                   71\n",
      "Model:                          Logit   Df Residuals:                       68\n",
      "Method:                           MLE   Df Model:                            2\n",
      "Date:                Sat, 08 Jan 2022   Pseudo R-squ.:                  0.6096\n",
      "Time:                        11:13:25   Log-Likelihood:                -19.211\n",
      "converged:                       True   LL-Null:                       -49.206\n",
      "Covariance Type:            nonrobust   LLR p-value:                 9.401e-14\n",
      "===================================================================================\n",
      "                      coef    std err          z      P>|z|      [0.025      0.975]\n",
      "-----------------------------------------------------------------------------------\n",
      "Annual_Income    5.573e-05   2.13e-05      2.618      0.009     1.4e-05    9.74e-05\n",
      "Education_Years     0.3833      0.129      2.974      0.003       0.131       0.636\n",
      "Age                -0.2936      0.070     -4.219      0.000      -0.430      -0.157\n",
      "===================================================================================\n"
     ]
    }
   ],
   "source": [
    "# No coding required from learners here\n",
    "\n",
    "# defining the dependent and independent variables\n",
    "Xtrain = dcredit[['Annual_Income', 'Education_Years', 'Age']]\n",
    "#Xtrain = dcredit[[ 'Education_Years', 'Age']]\n",
    "ytrain = dcredit[['Credit_Profile']]\n",
    "\n",
    "# building the model and fitting the data\n",
    "logreg = sm.Logit(ytrain, Xtrain).fit()\n",
    "print(logreg.summary())\n"
   ]
  },
  {
   "cell_type": "markdown",
   "metadata": {},
   "source": [
    "## Testing the model"
   ]
  },
  {
   "cell_type": "code",
   "execution_count": 3,
   "metadata": {},
   "outputs": [],
   "source": [
    "# This is the input test data\n",
    "# No coding required here\n",
    "\n",
    "xdata = {'Annual_Income':[100000,40000,90000,80000,90000],\n",
    "        'Education_Years':[9,9,15,19,29],\n",
    "        'Age':[29,26,27,39,49]}\n",
    "ydata = {'Credit_Profile':[1,0,1,1,0 ]}\n",
    "\n",
    "xtest = pd.DataFrame(xdata)\n",
    "ytest = pd.DataFrame(ydata)\n",
    "\n",
    "## Coding required in the exercise below to perform the predictions\n",
    "\n",
    "## Hint: use logreg.predict to predict actual values and assign it to a variable, say ypredict\n",
    "## Hint: Having computed the predicted values, just use the print function to print ypredict\n",
    "## Note that the probabilities (in percentage terms are quite high) except for one (second) reading \n",
    "## of Annual income = 40000. For this reading the prediction is 12.4% probability of a loan worthy credit profile\n",
    "## Since 12.4% is less than 50%, the prediction is that the data set with \n",
    "## Annual income = 40000 Education years = 9, Age = 26, the loan worthiness is 0 (that is not loan worthy)\n",
    "## So the actual value for Annual income = 40000 Education years = 9, Age = 26, matches the predicted value\n",
    "## If in doubt, please refer to the code in Module 4 lesson 6."
   ]
  },
  {
   "cell_type": "markdown",
   "metadata": {},
   "source": [
    "If you have run all of the code examples above, in the order shown, then all the variables created are now available\n",
    "to any other code cells in this notebook."
   ]
  },
  {
   "cell_type": "code",
   "execution_count": 4,
   "metadata": {},
   "outputs": [],
   "source": [
    "# In this code cell, just below this comment, type the code statements to perform the predictions and print them."
   ]
  },
  {
   "cell_type": "markdown",
   "metadata": {
    "solution2": "hidden",
    "solution2_first": true
   },
   "source": [
    "Click the button below to see the instructor's solution. Use the \"Run\" button in the toolbar to run it.\n",
    "Remember that all the code cells above must be run first."
   ]
  },
  {
   "cell_type": "code",
   "execution_count": 5,
   "metadata": {
    "deletable": false,
    "editable": false,
    "nbgrader": {
     "cell_type": "code",
     "checksum": "66bf071508c859f1e953c13124b71989",
     "grade": false,
     "grade_id": "instructor-prediction",
     "locked": true,
     "schema_version": 3,
     "solution": false,
     "task": false
    },
    "solution2": "hidden"
   },
   "outputs": [
    {
     "name": "stdout",
     "output_type": "stream",
     "text": [
      "0    0.624743\n",
      "1    0.124206\n",
      "2    0.944781\n",
      "3    0.572767\n",
      "4    0.851745\n",
      "dtype: float64\n"
     ]
    }
   ],
   "source": [
    "ypredict = logreg.predict(xtest)\n",
    "print(ypredict)"
   ]
  },
  {
   "cell_type": "markdown",
   "metadata": {},
   "source": [
    "Click the button below to see the *complete* solution. Use the \"Run\" button in the toolbar to run it."
   ]
  },
  {
   "cell_type": "markdown",
   "metadata": {
    "solution": "hidden",
    "solution2": "hidden",
    "solution2_first": true,
    "solution_first": true
   },
   "source": [
    " "
   ]
  },
  {
   "cell_type": "code",
   "execution_count": 6,
   "metadata": {
    "deletable": false,
    "editable": false,
    "nbgrader": {
     "cell_type": "code",
     "checksum": "d6b76d1d139c051bc2daab69039626a6",
     "grade": false,
     "grade_id": "instructor-complete",
     "locked": true,
     "schema_version": 3,
     "solution": false,
     "task": false
    },
    "solution2": "hidden"
   },
   "outputs": [
    {
     "name": "stdout",
     "output_type": "stream",
     "text": [
      "Optimization terminated successfully.\n",
      "         Current function value: 0.270577\n",
      "         Iterations 8\n",
      "0    0.624743\n",
      "1    0.124206\n",
      "2    0.944781\n",
      "3    0.572767\n",
      "4    0.851745\n",
      "dtype: float64\n"
     ]
    }
   ],
   "source": [
    "# import the required libraries\n",
    "import numpy as np\n",
    "import pandas as pd\n",
    "import matplotlib.pyplot as plt\n",
    "import statsmodels.api as sm\n",
    "\n",
    "# read the input file    \n",
    "dcredit = pd.read_excel('Helper_Data.xlsx',sheet_name ='Credit Profile')\n",
    "\n",
    "# define the independent and dependent variables\n",
    "Xtrain = dcredit[['Annual_Income', 'Education_Years', 'Age']]    \n",
    "ytrain = dcredit[['Credit_Profile']]\n",
    "\n",
    "# build the model and fit the data\n",
    "logreg = sm.Logit(ytrain, Xtrain).fit()\n",
    "\n",
    "# Input test data\n",
    "xdata = {'Annual_Income':[100000,40000,90000,80000,90000],\n",
    "        'Education_Years':[9,9,15,19,29],\n",
    "        'Age':[29,26,27,39,49]}\n",
    "ydata = {'Credit_Profile':[1,0,1,1,0 ]}\n",
    "\n",
    "xtest = pd.DataFrame(xdata)\n",
    "ytest = pd.DataFrame(ydata)\n",
    "\n",
    "# perform the prediction and print\n",
    "ypredict = logreg.predict(xtest)\n",
    "print(ypredict)"
   ]
  }
 ],
 "metadata": {
  "kernelspec": {
   "display_name": "Python 3",
   "language": "python",
   "name": "python3"
  },
  "language_info": {
   "codemirror_mode": {
    "name": "ipython",
    "version": 3
   },
   "file_extension": ".py",
   "mimetype": "text/x-python",
   "name": "python",
   "nbconvert_exporter": "python",
   "pygments_lexer": "ipython3",
   "version": "3.8.8"
  }
 },
 "nbformat": 4,
 "nbformat_minor": 4
}
